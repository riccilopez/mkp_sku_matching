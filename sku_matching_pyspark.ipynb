{
 "cells": [
  {
   "cell_type": "markdown",
   "id": "quarterly-affect",
   "metadata": {},
   "source": [
    "# Product matching "
   ]
  },
  {
   "cell_type": "code",
   "execution_count": 1,
   "id": "about-drove",
   "metadata": {},
   "outputs": [],
   "source": [
    "import os\n",
    "import pandas as pd\n",
    "from datetime import datetime\n",
    "from pathlib import Path\n",
    "\n",
    "from modules.normalize_text import normalize_text\n",
    "from modules.csv_reader import CSVFileReader\n",
    "from modules.sku_matcher import get_confidence"
   ]
  },
  {
   "cell_type": "code",
   "execution_count": 2,
   "id": "630b11e4",
   "metadata": {},
   "outputs": [
    {
     "name": "stderr",
     "output_type": "stream",
     "text": [
      "23/09/14 08:12:49 WARN Utils: Your hostname, MacBook-Pro-de-Joel.local resolves to a loopback address: 127.0.0.1; using 10.0.0.7 instead (on interface en1)\n",
      "23/09/14 08:12:49 WARN Utils: Set SPARK_LOCAL_IP if you need to bind to another address\n",
      "Setting default log level to \"WARN\".\n",
      "To adjust logging level use sc.setLogLevel(newLevel). For SparkR, use setLogLevel(newLevel).\n",
      "23/09/14 08:12:49 WARN NativeCodeLoader: Unable to load native-hadoop library for your platform... using builtin-java classes where applicable\n"
     ]
    }
   ],
   "source": [
    "from pyspark.sql import SparkSession, Window\n",
    "from pyspark.sql.types import StringType, FloatType\n",
    "import pyspark.sql.functions as F\n",
    "\n",
    "spark = SparkSession.builder \\\n",
    "    .appName(\"TestSpark\") \\\n",
    "    .getOrCreate()"
   ]
  },
  {
   "cell_type": "code",
   "execution_count": 3,
   "id": "089930c2",
   "metadata": {},
   "outputs": [],
   "source": [
    "%load_ext autoreload\n",
    "%autoreload 2"
   ]
  },
  {
   "cell_type": "code",
   "execution_count": 4,
   "id": "ba827fec",
   "metadata": {},
   "outputs": [],
   "source": [
    "# Define the input and output directories\n",
    "MKPT_PRICE_PATH        = './data/mktp_prices/'\n",
    "WEBSCRAPING_INPUT_PATH = './data/scrapped/'\n",
    "MATCHING_OUPUT_PATH    = './data/matched_parquets/'"
   ]
  },
  {
   "cell_type": "markdown",
   "id": "d1fdecd0",
   "metadata": {},
   "source": [
    "## Load the input files\n",
    "### ABI Marketplace SKU-Price catalog"
   ]
  },
  {
   "cell_type": "code",
   "execution_count": 5,
   "id": "8d054053-bd8c-4192-b81e-bf0727242eb7",
   "metadata": {},
   "outputs": [
    {
     "name": "stdout",
     "output_type": "stream",
     "text": [
      "Index(['Categoría', 'SKU NUEVO', 'DESCRIPCIÓN', 'EAN/UPC', 'IMPERDIBLES',\n",
      "       'IVA', 'IEPS', 'Marca', 'DESCRIPCION_2', 'CUPO', 'PZA', 'PTR',\n",
      "       'PTR_UNITARIO', 'PTR_W1 ', 'PTR_W2', 'PTR_W3 ', 'PTR_W4', 'PTR_W5',\n",
      "       'PTR_W6', 'PTR_W7', 'PTR_W8', 'PTR_W9', 'PTR_W10', 'PTR_W11', 'PTR_W12',\n",
      "       'PTR_W13', 'PTR_W14', 'PTR_W15'],\n",
      "      dtype='object')\n"
     ]
    },
    {
     "name": "stderr",
     "output_type": "stream",
     "text": [
      "/Users/joelricci/miniconda/envs/sku_match_spark/lib/python3.11/site-packages/pyspark/sql/pandas/conversion.py:479: FutureWarning: is_datetime64tz_dtype is deprecated and will be removed in a future version. Check `isinstance(dtype, pd.DatetimeTZDtype)` instead.\n",
      "  if should_localize and is_datetime64tz_dtype(s.dtype) and s.dt.tz is not None:\n",
      "[Stage 0:>                                                          (0 + 1) / 1]\r"
     ]
    },
    {
     "name": "stdout",
     "output_type": "stream",
     "text": [
      "+----------+--------------------+---------+--------------------+\n",
      "|mkp_sku_id|        mkp_sku_name|mkp_price|  mkp_sku_name_clean|\n",
      "+----------+--------------------+---------+--------------------+\n",
      "|   3000200|NESTLE PUREZA VIT...|    65.84|npvnpvnpvnpv\u00034lt 4pz|\n",
      "|   3006942|SANTA MARIA 355ML...|     76.0|santamariasantama...|\n",
      "|   3000085|NESTLE PUREZA VIT...|     82.0|npvnpvnpvnpv\u00031lt ...|\n",
      "|   3001443|SANTA MARIA 1L -1...|    100.0|santamariasantama...|\n",
      "|   3000080|SANTA MARIA 1.5L ...|    100.0|santamariasantama...|\n",
      "|   3000083|NESTLE PUREZA VIT...|    100.0|npvnpvnpvnpv\u00031.5l...|\n",
      "|   3004895|SANTA MARIA GOURM...|     94.0|santamariasantama...|\n",
      "|   3002270|STA. MARIA 4L - 6...|    119.0|santamariasantama...|\n",
      "|   3006945|SANTA MARIA 500ML...|    117.0|santamariasantama...|\n",
      "|   3006953|NESTLE PUERZA VIT...|    123.0|nestle puerza vit...|\n",
      "|   3000119|NESTLE PUREZA VIT...|   225.01|npvnpvnpvnpv\u0003mine...|\n",
      "|   3009129|SAN PELLEGRINO 25...|   414.31|san pellegrino 20...|\n",
      "|   3009148|PERRIER VIDRIO 33...|   573.47|perrier vidrio 30...|\n",
      "|   3009149|PERRIER 750ML - 1...|    560.0|  perrier 700ml 12pz|\n",
      "|   3009128|SAN PELLEGRINO 50...|    782.0|san pellegrino 50...|\n",
      "|   3006952|NESTLE PUREZA VIT...|     77.0|npvnpvnpvnpv\u00036pz ...|\n",
      "|   3010270|CHIPS BOLSON 680 ...|   141.67|chips bolson 600g...|\n",
      "|   3010171|CERVEZA ALLENDE G...|   501.23|cerveza allende g...|\n",
      "|   3010174|CERVEZA ALLENDE I...|   556.86|cerveza allende i...|\n",
      "|   3010175|CERVEZA ALLENDE C...|   473.28|cerveza allende c...|\n",
      "+----------+--------------------+---------+--------------------+\n",
      "only showing top 20 rows\n",
      "\n"
     ]
    },
    {
     "name": "stderr",
     "output_type": "stream",
     "text": [
      "                                                                                \r"
     ]
    }
   ],
   "source": [
    "mktp_prices_path = Path(f'{MKPT_PRICE_PATH}/PreciosMarketplaceHistorico.xlsb')\n",
    "\n",
    "df_mkpt_prices = pd.read_excel(\n",
    "    mktp_prices_path, \n",
    "    sheet_name = 'PRECIOS', engine = 'pyxlsb', skiprows = 3)\n",
    "\n",
    "print(df_mkpt_prices.columns)\n",
    "\n",
    "# Sanity check\n",
    "sku_colname   = 'SKU NUEVO'\n",
    "sku_desc_name = 'DESCRIPCIÓN'\n",
    "price_colname = f'PTR_W{15}'\n",
    "brand_colname = 'Marca'\n",
    "\n",
    "# Format the SKU material to string\n",
    "df_mkpt_prices[sku_colname] = df_mkpt_prices[sku_colname].astype(str)\n",
    "# Verify that there are no duplicated SKUs\n",
    "assert not df_mkpt_prices[sku_colname].duplicated().any()\n",
    "\n",
    "# Keep only useful columns and rename them\n",
    "df_mkpt_prices = df_mkpt_prices[[sku_colname, sku_desc_name, \n",
    "                                 price_colname, brand_colname]]\n",
    "# Include the `brand` info into the `sku_name`\n",
    "df_mkpt_prices['mkp_sku_id'] = df_mkpt_prices[sku_colname]\\\n",
    "                                .str.cat(df_mkpt_prices[brand_colname], sep=\" \")\n",
    "df_mkpt_prices = df_mkpt_prices[[sku_colname, sku_desc_name, price_colname]]\n",
    "df_mkpt_prices.columns = ['mkp_sku_id', 'mkp_sku_name', 'mkp_price']\n",
    "\n",
    "# CONVERT TO SPARK\n",
    "df_mkpt_prices = spark.createDataFrame(df_mkpt_prices)\n",
    "\n",
    "# Round price values\n",
    "df_mkpt_prices = df_mkpt_prices.withColumn('mkp_price',\n",
    "                        F.round(df_mkpt_prices['mkp_price'], 2))\n",
    "\n",
    "@F.udf(StringType())\n",
    "def normalize_text_udf(text):\n",
    "    # Replace 'normalize_text'\n",
    "    return normalize_text(text, encode='ascii')\n",
    "# normalize_text_spark_udf = udf(normalize_text_udf, StringType())\n",
    "\n",
    "# Cleaning phase\n",
    "# Lowercase string fields\n",
    "df_mkpt_prices = df_mkpt_prices\\\n",
    "                    .withColumn('mkp_sku_name_clean', \n",
    "                                normalize_text_udf(df_mkpt_prices['mkp_sku_name']))\n",
    "\n",
    "df_mkpt_prices.show()"
   ]
  },
  {
   "cell_type": "markdown",
   "id": "575a7b79",
   "metadata": {},
   "source": [
    "### Load the web scraping files"
   ]
  },
  {
   "cell_type": "code",
   "execution_count": 6,
   "id": "022bfe66",
   "metadata": {},
   "outputs": [],
   "source": [
    "# Path to the web scraping directory\n",
    "scraped_path = Path(WEBSCRAPING_INPUT_PATH)\n",
    "# Date to match\n",
    "date_sf = '02-05-23'\n",
    "\n",
    "# TODO: Create a function to list all available dates\n",
    "# select the max date and check whether that date exist in the sku_matched table\n",
    "# iterate until evaluate all available dates \n",
    "\n",
    "# TODO: No está claro el formato del archivo que va a enviar\n",
    "# el equipo de Elkin y de Michael"
   ]
  },
  {
   "cell_type": "code",
   "execution_count": 7,
   "id": "eadc977f",
   "metadata": {},
   "outputs": [
    {
     "data": {
      "text/plain": [
       "[PosixPath('data/scrapped/02052023/02-05-23-BodegaAurrera_MX.csv'),\n",
       " PosixPath('data/scrapped/02052023/02-05-23-Soriana_MX.csv'),\n",
       " PosixPath('data/scrapped/02052023/02-05-23-Walmart_MX.csv'),\n",
       " PosixPath('data/scrapped/02052023/02-05-23-Scorpion_MX.csv'),\n",
       " PosixPath('data/scrapped/02052023/02-05-23-CavaDelDuero_MX.csv'),\n",
       " PosixPath('data/scrapped/02052023/02-05-23-laCastellana_MX.csv'),\n",
       " PosixPath('data/scrapped/02052023/02-05-23-Surtitienda_MX.csv'),\n",
       " PosixPath('data/scrapped/02052023/02-05-23-MayoreoTotal_MX.csv'),\n",
       " PosixPath('data/scrapped/02052023/02-05-23-BodegaAlianza_MX.csv'),\n",
       " PosixPath('data/scrapped/02052023/02-05-23-Autoservicio-Laplaya_MX.csv'),\n",
       " PosixPath('data/scrapped/02052023/02-05-23-Alcca_MX.csv'),\n",
       " PosixPath('data/scrapped/02052023/02-05-23-LaEuropea_MX.csv'),\n",
       " PosixPath('data/scrapped/02052023/02-05-23-IbarraMayoreo_MX.csv'),\n",
       " PosixPath('data/scrapped/02052023/02-05-23-Frubana_MX.csv'),\n",
       " PosixPath('data/scrapped/02052023/02-05-23-Corpovino_MX.csv'),\n",
       " PosixPath('data/scrapped/02052023/02-05-23-Abarrotero_MX.csv'),\n",
       " PosixPath('data/scrapped/02052023/02-05-23-Consuvino_MX.csv')]"
      ]
     },
     "execution_count": 7,
     "metadata": {},
     "output_type": "execute_result"
    }
   ],
   "source": [
    "# Date to match (corresponds to a single directory per date)\n",
    "scraping_date = datetime.strptime(date_sf, \"%d-%m-%y\").strftime(\"%d%m%Y\")\n",
    "date_path = scraped_path /scraping_date \n",
    "\n",
    "# List of .csv files inside the date directory\n",
    "scraping_files = [ \n",
    "        date_path / f for f in\n",
    "            (filter(lambda f: f.endswith('.csv'), \n",
    "                os.listdir(date_path)))\n",
    "            ]\n",
    "\n",
    "scraping_files"
   ]
  },
  {
   "cell_type": "code",
   "execution_count": 8,
   "id": "4d948b06",
   "metadata": {},
   "outputs": [
    {
     "name": "stderr",
     "output_type": "stream",
     "text": [
      "/Users/joelricci/miniconda/envs/sku_match_spark/lib/python3.11/site-packages/pyspark/sql/pandas/conversion.py:479: FutureWarning: is_datetime64tz_dtype is deprecated and will be removed in a future version. Check `isinstance(dtype, pd.DatetimeTZDtype)` instead.\n",
      "  if should_localize and is_datetime64tz_dtype(s.dtype) and s.dt.tz is not None:\n",
      "[Stage 1:>                                                          (0 + 8) / 8]\r"
     ]
    },
    {
     "name": "stdout",
     "output_type": "stream",
     "text": [
      "+--------------------+-----+\n",
      "|     competitor_name|count|\n",
      "+--------------------+-----+\n",
      "|             Walmart| 1773|\n",
      "|             Soriana|  266|\n",
      "|      Bodega Aurrera| 2097|\n",
      "|             Scorpio| 4916|\n",
      "|       La Castellana| 1028|\n",
      "|      Cava del Duero|  900|\n",
      "|       Mayoreo Total| 6239|\n",
      "|         Surtitienda| 2684|\n",
      "|             Alianza|  608|\n",
      "|               Alcca|  596|\n",
      "|Autoservicio la P...|  821|\n",
      "|      Ibarra Mayoreo| 2285|\n",
      "|          La Europea| 1928|\n",
      "|          Abarrotero|  279|\n",
      "|           Consuvino| 1369|\n",
      "|             Frubana|  110|\n",
      "|           Corpovino|  179|\n",
      "+--------------------+-----+\n",
      "\n"
     ]
    },
    {
     "name": "stderr",
     "output_type": "stream",
     "text": [
      "                                                                                \r"
     ]
    }
   ],
   "source": [
    "# Use the `CSVFileReader` to load and clean the csv files\n",
    "df_scrap = pd.concat([CSVFileReader(f).validate_file() for f in scraping_files])\\\n",
    "                .reset_index(drop = True)\n",
    "# Rename the categories assuming the following patter\n",
    "# `sku_name`, `competitor_name`, `url`, `price`\n",
    "df_scrap.columns = ['competitor_sku_name', 'competitor_name', \n",
    "                    'competitor_url', 'competitor_price']\n",
    "\n",
    "# Drop duplicates\n",
    "df_scrap = df_scrap.drop_duplicates(subset = \n",
    "                ['competitor_sku_name', 'competitor_name'])\n",
    "                \n",
    "# Convert competitors_column to categorical\n",
    "df_scrap['competitor_name'] = df_scrap['competitor_name'].astype('category')\n",
    "\n",
    "# Reset index\n",
    "# Add an index for future analaysis\n",
    "df_scrap = df_scrap.reset_index(names = 'scrap_id')\n",
    "\n",
    "# CONVER TO SPARK\n",
    "df_scrap = spark.createDataFrame(df_scrap)\n",
    "\n",
    "df_scrap.groupby('competitor_name').count().show()"
   ]
  },
  {
   "cell_type": "markdown",
   "id": "10d790bb",
   "metadata": {},
   "source": [
    "### Perform the text-cleaning phase of web scraping data"
   ]
  },
  {
   "cell_type": "code",
   "execution_count": 9,
   "id": "25e91b54",
   "metadata": {},
   "outputs": [
    {
     "name": "stdout",
     "output_type": "stream",
     "text": [
      "+--------+--------------------+---------------+--------------------+----------------+--------------------+\n",
      "|scrap_id| competitor_sku_name|competitor_name|      competitor_url|competitor_price| comp_sku_name_clean|\n",
      "+--------+--------------------+---------------+--------------------+----------------+--------------------+\n",
      "|       0|Leche evaporada A...| Bodega Aurrera|https://despensa....|            21.5|leche evaporada a...|\n",
      "|       1|Leche en polvo Ne...| Bodega Aurrera|https://despensa....|            15.5|leche polvo nestl...|\n",
      "|       2|Leche en polvo Al...| Bodega Aurrera|https://despensa....|            78.0|leche polvo alpur...|\n",
      "|       3|Producto lacteo N...| Bodega Aurrera|https://despensa....|            16.0|lch numalac polvo...|\n",
      "|       4|Producto lacteo N...| Bodega Aurrera|https://despensa....|            60.5|lch nestle nutri ...|\n",
      "|       5|Leche en polvo Al...| Bodega Aurrera|https://despensa....|            81.5|leche polvo alpur...|\n",
      "|       6|Leche evaporada A...| Bodega Aurrera|https://despensa....|            21.5|leche evaporada a...|\n",
      "|       7|Leche evaporada N...| Bodega Aurrera|https://despensa....|            23.0|leche evaporada n...|\n",
      "|       8|Leche condensada ...| Bodega Aurrera|https://despensa....|            29.5|leche condensada ...|\n",
      "|       9|Producto lacteo c...| Bodega Aurrera|https://despensa....|            17.5|lch combinado nut...|\n",
      "|      10|Leche Lala  evapo...| Bodega Aurrera|https://despensa....|            15.5|leche lalalalalal...|\n",
      "|      11|Producto lacteo N...| Bodega Aurrera|https://despensa....|            17.0|lch nestle nutri ...|\n",
      "|      12|Producto lacteo N...| Bodega Aurrera|https://despensa....|           265.0|lch nestle svelty...|\n",
      "|      13|Leche evaporada N...| Bodega Aurrera|https://despensa....|            20.5|leche evaporada n...|\n",
      "|      14|Leche condensada ...| Bodega Aurrera|https://despensa....|            12.0|leche condensada ...|\n",
      "|      15|Leche condensada ...| Bodega Aurrera|https://despensa....|            28.0|leche condensada ...|\n",
      "|      16|Producto lacteo N...| Bodega Aurrera|https://despensa....|            65.0|lch nestle svelty...|\n",
      "|      17|Leche condensada ...| Bodega Aurrera|https://despensa....|            46.5|leche condensada ...|\n",
      "|      18|Leche condensada ...| Bodega Aurrera|https://despensa....|            29.5|leche condensada ...|\n",
      "|      19|Alimento en polvo...| Bodega Aurrera|https://despensa....|           158.0|alimento polvo pr...|\n",
      "+--------+--------------------+---------------+--------------------+----------------+--------------------+\n",
      "only showing top 20 rows\n",
      "\n"
     ]
    }
   ],
   "source": [
    "# Cleaning phase\n",
    "df_scrap = df_scrap.withColumn('comp_sku_name_clean', \n",
    "            normalize_text_udf(df_scrap['competitor_sku_name']))\n",
    "\n",
    "# df_scrap.orderBy(F.rand()).limit(10).show()\n",
    "df_scrap.show()"
   ]
  },
  {
   "cell_type": "markdown",
   "id": "stuck-pharmaceutical",
   "metadata": {},
   "source": [
    "## SKU matching phase\n",
    "\n",
    "### Number of evaluations to perform\n",
    "Calculate the number of evaluations to perform:\n",
    "\n",
    "$$N_{evals} = m * n$$\n",
    "where $m$= *number of Marketplace skus* and $n$ = *number of scraped products*"
   ]
  },
  {
   "cell_type": "code",
   "execution_count": 10,
   "id": "28f81da1",
   "metadata": {},
   "outputs": [
    {
     "name": "stderr",
     "output_type": "stream",
     "text": [
      "                                                                                \r"
     ]
    },
    {
     "name": "stdout",
     "output_type": "stream",
     "text": [
      "[247 mkp skus] * [28,078 web scraping skus] \n",
      "= 6,935,266 evaluations\n"
     ]
    },
    {
     "name": "stderr",
     "output_type": "stream",
     "text": [
      "                                                                                \r"
     ]
    }
   ],
   "source": [
    "# Total de evaluaciones\n",
    "_n_rows_mkp = df_mkpt_prices.count()\n",
    "_n_rows_wsp = df_scrap.count()\n",
    "_n_evals =_n_rows_mkp * _n_rows_wsp\n",
    "print(f'[{_n_rows_mkp:,} mkp skus] * [{_n_rows_wsp:,} web scraping skus] ')\n",
    "print(f'= {_n_evals:,} evaluations')"
   ]
  },
  {
   "cell_type": "markdown",
   "id": "17ca5a70",
   "metadata": {},
   "source": [
    "Define a function to perform the matching phase and keep the best match between a given pair of competitor and marketplace skus."
   ]
  },
  {
   "cell_type": "code",
   "execution_count": 11,
   "id": "bb786368",
   "metadata": {},
   "outputs": [],
   "source": [
    "# Define the UDF funton of \n",
    "@F.udf(FloatType())\n",
    "def get_confidence_udf(mktp_sku_clean_name, comp_sku_clean_name):\n",
    "    # Replace 'get_confidence'\n",
    "    conf = get_confidence(mktp_sku_clean_name, comp_sku_clean_name)\n",
    "    return conf"
   ]
  },
  {
   "cell_type": "markdown",
   "id": "b77a6e91",
   "metadata": {},
   "source": [
    "### Perform the matching phase"
   ]
  },
  {
   "cell_type": "code",
   "execution_count": 12,
   "id": "a2ed11d4",
   "metadata": {},
   "outputs": [
    {
     "data": {
      "text/plain": [
       "DataFrame[mkp_sku_id: string, mkp_sku_name_clean: string, scrap_id: bigint, comp_sku_name_clean: string, confidence: float]"
      ]
     },
     "execution_count": 12,
     "metadata": {},
     "output_type": "execute_result"
    }
   ],
   "source": [
    "# Perform a cross join to obtain all pair combinations of mkp and comp products\n",
    "# Broadcast the smallest table to enhance performance, Keep only relevant columns\n",
    "# to avoid memory overload\n",
    "cj_df = F.broadcast(df_mkpt_prices.select(['mkp_sku_id', 'mkp_sku_name_clean']))\\\n",
    "        .crossJoin(df_scrap.select([\"scrap_id\", \"comp_sku_name_clean\"]))\n",
    "\n",
    "# Perform the pair-wise evaluation using the 'get_confidence'\n",
    "cj_df = cj_df.withColumn(\"confidence\", \n",
    "                 get_confidence_udf(F.col('mkp_sku_name_clean'), \n",
    "                                    F.col('comp_sku_name_clean')))\n",
    "\n",
    "# Now get the best mktp match for each competitor sku\n",
    "w = Window.partitionBy('scrap_id')\n",
    "match_df = cj_df\\\n",
    "        .withColumn('best_conf', F.max('confidence').over(w))\\\n",
    "        .where(F.col('confidence') == F.col('best_conf'))\\\n",
    "        .drop('best_conf')\\\n",
    "        .dropDuplicates(['scrap_id']) # Keep only one occurrence "
   ]
  },
  {
   "cell_type": "markdown",
   "id": "391115c9",
   "metadata": {},
   "source": [
    "### Format the output and save to `.parquet`\n",
    "\n",
    "1. Keep only relevant matches\n",
    "2. Include `scraping_date`\n",
    "3. Keep only relevant columns\n",
    "4. Compute `price_diff` and `price_index`"
   ]
  },
  {
   "cell_type": "code",
   "execution_count": 18,
   "id": "80a1a10d",
   "metadata": {},
   "outputs": [
    {
     "name": "stderr",
     "output_type": "stream",
     "text": [
      "23/09/14 10:21:35 WARN MemoryManager: Total allocation exceeds 95.00% (1,020,054,720 bytes) of heap memory\n",
      "Scaling row group sizes to 95.00% for 8 writers\n",
      "                                                                                \r"
     ]
    },
    {
     "data": {
      "text/plain": [
       "1878"
      ]
     },
     "execution_count": 18,
     "metadata": {},
     "output_type": "execute_result"
    }
   ],
   "source": [
    "col_to_keep = ['scraping_date', 'mkp_sku_id', 'scrap_id', 'mkp_sku_name', 'competitor_name', \n",
    "               'competitor_sku_name', 'confidence', 'mkp_price', 'competitor_price', \n",
    "               'price_diff', 'price_index', 'mkp_sku_name_clean', 'comp_sku_name_clean', \n",
    "               'competitor_url']\n",
    "\n",
    "# Add the date column\n",
    "formatted_date = pd.to_datetime(scraping_date, format = '%d%m%Y').date()\n",
    "\n",
    "# Confidence interval\n",
    "conf_thr = 0.35\n",
    "\n",
    "match_df = match_df\\\n",
    "                .select(['scrap_id', 'mkp_sku_id', 'confidence'])\\\n",
    "                .join(df_scrap, ['scrap_id'], \"left\")\\\n",
    "                .join(df_mkpt_prices, ['mkp_sku_id'], \"left\")\\\n",
    "                .filter(F.col('confidence') >= conf_thr)\\\n",
    "                .withColumn('scraping_date', F.lit(formatted_date))\\\n",
    "                .withColumn('price_diff',  F.round(F.col('mkp_price') - F.col('competitor_price'), 2))\\\n",
    "                .withColumn('price_index', F.round(F.col('price_diff') / F.col('mkp_price'), 2))\\\n",
    "                .select(col_to_keep)\\\n",
    "                .fillna('', subset = ['competitor_url'])\\\n",
    "                .orderBy(F.col('mkp_sku_id'), F.col('confidence').desc())\n",
    "\n",
    "# Save to cache\n",
    "match_df.cache()\n",
    "output_path = f'{MATCHING_OUPUT_PATH}/{scraping_date}_prod_matched_TEST.parquet' \n",
    "match_df.write.parquet(output_path)\n",
    "match_df.count()\n",
    "        "
   ]
  },
  {
   "cell_type": "code",
   "execution_count": 16,
   "id": "ed1c619c",
   "metadata": {},
   "outputs": [
    {
     "name": "stdout",
     "output_type": "stream",
     "text": [
      "+-------------+----------+--------+--------------------+---------------+--------------------+----------+---------+----------------+----------+-----------+--------------------+--------------------+--------------------+\n",
      "|scraping_date|mkp_sku_id|scrap_id|        mkp_sku_name|competitor_name| competitor_sku_name|confidence|mkp_price|competitor_price|price_diff|price_index|  mkp_sku_name_clean| comp_sku_name_clean|      competitor_url|\n",
      "+-------------+----------+--------+--------------------+---------------+--------------------+----------+---------+----------------+----------+-----------+--------------------+--------------------+--------------------+\n",
      "|   2023-05-02|   3000083|   24675|NESTLE PUREZA VIT...| Ibarra Mayoreo|Agua Natural Nest...|       1.0|    100.0|           120.7|     -20.7|      -0.21|npvnpvnpvnpv\u00031.5l...|npvnpvnpvnpv\u00031.5l...|https://ibarramay...|\n",
      "|   2023-05-02|   3000083|    8703|NESTLE PUREZA VIT...|        Scorpio|Agua Natural Nest...|       1.0|    100.0|           123.6|     -23.6|      -0.24|npvnpvnpvnpv\u00031.5l...|npvnpvnpvnpv\u00031.5l...|https://www.scorp...|\n",
      "|   2023-05-02|   3000083|    8701|NESTLE PUREZA VIT...|        Scorpio|Agua Natural Nest...|    0.9104|    100.0|            12.1|      87.9|       0.88|npvnpvnpvnpv\u00031.5l...|  npvnpvnpvnpv\u00031.5lt|https://www.scorp...|\n",
      "|   2023-05-02|   3000083|    8702|NESTLE PUREZA VIT...|        Scorpio|Agua Natural Nest...|    0.8788|    100.0|            10.3|      89.7|        0.9|npvnpvnpvnpv\u00031.5l...|npvnpvnpvnpv\u00031.5l...|https://www.scorp...|\n",
      "|   2023-05-02|   3000085|    8751|NESTLE PUREZA VIT...|        Scorpio|Agua Natural Nest...|       1.0|     82.0|            92.4|     -10.4|      -0.13|npvnpvnpvnpv\u00031lt ...|npvnpvnpvnpv\u00031lt ...|https://www.scorp...|\n",
      "|   2023-05-02|   3000085|   24674|NESTLE PUREZA VIT...| Ibarra Mayoreo|Agua Natural Nest...|       1.0|     82.0|            90.0|      -8.0|       -0.1|npvnpvnpvnpv\u00031lt ...|npvnpvnpvnpv\u00031lt ...|https://ibarramay...|\n",
      "|   2023-05-02|   3000085|    8749|NESTLE PUREZA VIT...|        Scorpio|Agua Natural Nest...|    0.9104|     82.0|             9.0|      73.0|       0.89|npvnpvnpvnpv\u00031lt ...|    npvnpvnpvnpv\u00031lt|https://www.scorp...|\n",
      "|   2023-05-02|   3000085|    8750|NESTLE PUREZA VIT...|        Scorpio|Agua Natural Nest...|    0.8788|     82.0|             7.7|      74.3|       0.91|npvnpvnpvnpv\u00031lt ...|npvnpvnpvnpv\u00031lt 3pz|https://www.scorp...|\n",
      "|   2023-05-02|   3000200|   24676|NESTLE PUREZA VIT...| Ibarra Mayoreo|Agua Natural Nest...|    0.8788|    65.84|           123.7|    -57.86|      -0.88|npvnpvnpvnpv\u00034lt 4pz|npvnpvnpvnpv\u00034lt 6pz|https://ibarramay...|\n",
      "|   2023-05-02|   3001443|   15519|SANTA MARIA 1L -1...|  Mayoreo Total|Paquete agua Sant...|       1.0|    100.0|           139.0|     -39.0|      -0.39|santamariasantama...|santamariasantama...|https://www.mayor...|\n",
      "|   2023-05-02|   3006942|   22534|SANTA MARIA 355ML...|     La Europea|Agua Natural Sta ...|    0.9104|     76.0|             5.0|      71.0|       0.93|santamariasantama...|santamariasantama...|https://www.laeur...|\n",
      "|   2023-05-02|   3006942|   22546|SANTA MARIA 355ML...|     La Europea|Agua Natural Sta ...|     0.813|     76.0|            13.0|      63.0|       0.83|santamariasantama...|santamariasantama...|https://www.laeur...|\n",
      "|   2023-05-02|   3006945|    8766|SANTA MARIA 500ML...|        Scorpio|Sta Maria Agua Na...|       1.0|    117.0|             6.4|     110.6|       0.95|santamariasantama...|santamariasantama...|https://www.scorp...|\n",
      "|   2023-05-02|   3006945|    8764|SANTA MARIA 500ML...|        Scorpio|Sta Maria Agua Na...|    0.9104|    117.0|             6.9|     110.1|       0.94|santamariasantama...|santamariasantama...|https://www.scorp...|\n",
      "|   2023-05-02|   3006945|   22550|SANTA MARIA 500ML...|     La Europea|Agua Natural Sta ...|    0.9104|    117.0|             7.0|     110.0|       0.94|santamariasantama...|santamariasantama...|https://www.laeur...|\n",
      "|   2023-05-02|   3006945|    8765|SANTA MARIA 500ML...|        Scorpio|Sta Maria Agua Na...|    0.8788|    117.0|             6.4|     110.6|       0.95|santamariasantama...|santamariasantama...|https://www.scorp...|\n",
      "|   2023-05-02|   3006953|    8713|NESTLE PUERZA VIT...|        Scorpio|Nestle Agua Purez...|    0.7319|    123.0|             6.5|     116.5|       0.95|nestle puerza vit...|nestle agua purez...|https://www.scorp...|\n",
      "|   2023-05-02|   3006953|    8715|NESTLE PUERZA VIT...|        Scorpio|Nestle Agua Purez...|    0.6955|    123.0|            66.0|      57.0|       0.46|nestle puerza vit...|nestle agua purez...|https://www.scorp...|\n",
      "|   2023-05-02|   3006953|    8714|NESTLE PUERZA VIT...|        Scorpio|Nestle Agua Purez...|    0.6955|    123.0|             5.5|     117.5|       0.96|nestle puerza vit...|nestle agua purez...|https://www.scorp...|\n",
      "|   2023-05-02|   3009129|   22545|SAN PELLEGRINO 25...|     La Europea|Agua San Pellegri...|    0.9104|   414.31|            21.0|    393.31|       0.95|san pellegrino 20...|san pellegrino 200ml|https://www.laeur...|\n",
      "+-------------+----------+--------+--------------------+---------------+--------------------+----------+---------+----------------+----------+-----------+--------------------+--------------------+--------------------+\n",
      "only showing top 20 rows\n",
      "\n"
     ]
    }
   ],
   "source": [
    "match_df.show()"
   ]
  },
  {
   "cell_type": "code",
   "execution_count": 17,
   "id": "47c9d688",
   "metadata": {},
   "outputs": [
    {
     "name": "stderr",
     "output_type": "stream",
     "text": [
      "                                                                                \r"
     ]
    },
    {
     "data": {
      "text/plain": [
       "1878"
      ]
     },
     "execution_count": 17,
     "metadata": {},
     "output_type": "execute_result"
    }
   ],
   "source": [
    "match_df.count()"
   ]
  },
  {
   "cell_type": "code",
   "execution_count": null,
   "id": "3b3d6b68",
   "metadata": {},
   "outputs": [],
   "source": []
  }
 ],
 "metadata": {
  "kernelspec": {
   "display_name": "sku_matching_env",
   "language": "python",
   "name": "python3"
  },
  "language_info": {
   "codemirror_mode": {
    "name": "ipython",
    "version": 3
   },
   "file_extension": ".py",
   "mimetype": "text/x-python",
   "name": "python",
   "nbconvert_exporter": "python",
   "pygments_lexer": "ipython3",
   "version": "3.11.4"
  }
 },
 "nbformat": 4,
 "nbformat_minor": 5
}
