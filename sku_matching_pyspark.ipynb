{
 "cells": [
  {
   "cell_type": "markdown",
   "metadata": {
    "application/vnd.databricks.v1+cell": {
     "cellMetadata": {},
     "inputWidgets": {},
     "nuid": "65116dac-4563-4536-bdaa-6bf23ecde827",
     "showTitle": false,
     "title": ""
    }
   },
   "source": [
    "# Product matching "
   ]
  },
  {
   "cell_type": "code",
   "execution_count": 0,
   "metadata": {
    "application/vnd.databricks.v1+cell": {
     "cellMetadata": {},
     "inputWidgets": {},
     "nuid": "fc239111-055e-4057-b596-61f8736846e1",
     "showTitle": false,
     "title": ""
    }
   },
   "outputs": [],
   "source": [
    "import os\n",
    "import pandas as pd\n",
    "from pathlib import Path\n",
    "from datetime import datetime\n",
    "# Import the in-house libraries\n",
    "from modules.csv_reader import CSVFileReader\n",
    "from modules.sku_matcher import get_confidence\n",
    "from modules.normalize_text import normalize_text"
   ]
  },
  {
   "cell_type": "code",
   "execution_count": 0,
   "metadata": {
    "application/vnd.databricks.v1+cell": {
     "cellMetadata": {},
     "inputWidgets": {},
     "nuid": "1b8fef9d-021d-4333-a9a6-6c4c89eca2ea",
     "showTitle": false,
     "title": ""
    }
   },
   "outputs": [],
   "source": [
    "import pyspark.sql.functions as F\n",
    "from pyspark.sql import SparkSession, Window\n",
    "from pyspark.sql.types import StringType, FloatType\n",
    "\n",
    "# Commented as only required for local tests\n",
    "# spark = SparkSession.builder \\\n",
    "#     .appName(\"TestSpark\") \\\n",
    "#     .getOrCreate()"
   ]
  },
  {
   "cell_type": "code",
   "execution_count": 0,
   "metadata": {
    "application/vnd.databricks.v1+cell": {
     "cellMetadata": {},
     "inputWidgets": {},
     "nuid": "e3efc03e-5162-4bbb-b01d-f43f9d21bcac",
     "showTitle": false,
     "title": ""
    }
   },
   "outputs": [],
   "source": [
    "# %load_ext autoreload\n",
    "# %autoreload 2\n",
    "\n",
    "# Install the requirements\n",
    "%pip install -r ./requirements.txt"
   ]
  },
  {
   "cell_type": "code",
   "execution_count": 0,
   "metadata": {
    "application/vnd.databricks.v1+cell": {
     "cellMetadata": {},
     "inputWidgets": {},
     "nuid": "14cd8968-1631-43bb-8bd3-11ef7da6c566",
     "showTitle": false,
     "title": ""
    }
   },
   "outputs": [],
   "source": [
    "# Define the input and output directories\n",
    "MKPT_PRICE_PATH        = './data/mktp_prices/'\n",
    "WEBSCRAPING_INPUT_PATH = './data/scrapped/'\n",
    "MATCHING_OUPUT_PATH    = './data/matched_parquets/'"
   ]
  },
  {
   "cell_type": "markdown",
   "metadata": {
    "application/vnd.databricks.v1+cell": {
     "cellMetadata": {},
     "inputWidgets": {},
     "nuid": "ac49fb11-6e20-4afa-af32-d0373b0aede3",
     "showTitle": false,
     "title": ""
    }
   },
   "source": [
    "## Load the input files\n",
    "### ABI Marketplace SKU-Price catalog"
   ]
  },
  {
   "cell_type": "code",
   "execution_count": 0,
   "metadata": {
    "application/vnd.databricks.v1+cell": {
     "cellMetadata": {},
     "inputWidgets": {},
     "nuid": "ff25f969-acfa-43a8-b8c6-d24d6edbc85b",
     "showTitle": false,
     "title": ""
    }
   },
   "outputs": [],
   "source": [
    "mktp_prices_path = Path(f'{MKPT_PRICE_PATH}/PreciosMarketplaceHistorico.xlsb')\n",
    "\n",
    "df_mkpt_prices = pd.read_excel(\n",
    "    mktp_prices_path, \n",
    "    sheet_name = 'PRECIOS', engine = 'pyxlsb', skiprows = 3)\n",
    "\n",
    "print(df_mkpt_prices.columns)\n",
    "\n",
    "# Sanity check\n",
    "sku_colname   = 'SKU NUEVO'\n",
    "sku_desc_name = 'DESCRIPCIÓN'\n",
    "price_colname = f'PTR_W{15}'\n",
    "brand_colname = 'Marca'\n",
    "\n",
    "# Format the SKU material to string\n",
    "df_mkpt_prices[sku_colname] = df_mkpt_prices[sku_colname].astype(str)\n",
    "# Verify that there are no duplicated SKUs\n",
    "assert not df_mkpt_prices[sku_colname].duplicated().any()\n",
    "\n",
    "# Keep only useful columns and rename them\n",
    "df_mkpt_prices = df_mkpt_prices[[sku_colname, sku_desc_name, \n",
    "                                 price_colname, brand_colname]]\n",
    "# Include the `brand` info into the `sku_name`\n",
    "df_mkpt_prices['mkp_sku_id'] = df_mkpt_prices[sku_colname]\\\n",
    "                                .str.cat(df_mkpt_prices[brand_colname], sep=\" \")\n",
    "df_mkpt_prices = df_mkpt_prices[[sku_colname, sku_desc_name, price_colname]]\n",
    "df_mkpt_prices.columns = ['mkp_sku_id', 'mkp_sku_name', 'mkp_price']\n",
    "\n",
    "# CONVERT TO SPARK\n",
    "df_mkpt_prices = spark.createDataFrame(df_mkpt_prices)\n",
    "\n",
    "# Round price values\n",
    "df_mkpt_prices = df_mkpt_prices.withColumn('mkp_price',\n",
    "                        F.round(df_mkpt_prices['mkp_price'], 2))\n",
    "\n",
    "@F.udf(StringType())\n",
    "def normalize_text_udf(text):\n",
    "    # Replace 'normalize_text'\n",
    "    return normalize_text(text, encode='ascii')\n",
    "# normalize_text_spark_udf = udf(normalize_text_udf, StringType())\n",
    "\n",
    "# Cleaning phase\n",
    "# Lowercase string fields\n",
    "df_mkpt_prices = df_mkpt_prices\\\n",
    "                    .withColumn('mkp_sku_name_clean', \n",
    "                                normalize_text_udf(df_mkpt_prices['mkp_sku_name']))\n",
    "\n",
    "df_mkpt_prices.show()"
   ]
  },
  {
   "cell_type": "markdown",
   "metadata": {
    "application/vnd.databricks.v1+cell": {
     "cellMetadata": {},
     "inputWidgets": {},
     "nuid": "0cedb92b-4e23-48ee-a942-e0b420f0d43b",
     "showTitle": false,
     "title": ""
    }
   },
   "source": [
    "### Load the web scraping files"
   ]
  },
  {
   "cell_type": "code",
   "execution_count": 0,
   "metadata": {
    "application/vnd.databricks.v1+cell": {
     "cellMetadata": {},
     "inputWidgets": {},
     "nuid": "45e5b92c-fa10-4a3f-bf4b-ac1dc4604700",
     "showTitle": false,
     "title": ""
    }
   },
   "outputs": [],
   "source": [
    "# Path to the web scraping directory\n",
    "scraped_path = Path(WEBSCRAPING_INPUT_PATH)\n",
    "# Date to match\n",
    "date_sf = '02-05-23'\n",
    "\n",
    "# TODO: Create a function to list all available dates\n",
    "# select the max date and check whether that date exist in the sku_matched table\n",
    "# iterate until evaluate all available dates \n",
    "\n",
    "# TODO: No está claro el formato del archivo que va a enviar\n",
    "# el equipo de Elkin y de Michael"
   ]
  },
  {
   "cell_type": "code",
   "execution_count": 0,
   "metadata": {
    "application/vnd.databricks.v1+cell": {
     "cellMetadata": {},
     "inputWidgets": {},
     "nuid": "85c45548-938b-4d64-80c5-bcb97a8c40f3",
     "showTitle": false,
     "title": ""
    }
   },
   "outputs": [],
   "source": [
    "# Date to match (corresponds to a single directory per date)\n",
    "scraping_date = datetime.strptime(date_sf, \"%d-%m-%y\").strftime(\"%d%m%Y\")\n",
    "date_path = scraped_path /scraping_date \n",
    "\n",
    "# List of .csv files inside the date directory\n",
    "scraping_files = [ \n",
    "        date_path / f for f in\n",
    "            (filter(lambda f: f.endswith('.csv'), \n",
    "                os.listdir(date_path)))\n",
    "            ]\n",
    "\n",
    "scraping_files"
   ]
  },
  {
   "cell_type": "code",
   "execution_count": 0,
   "metadata": {
    "application/vnd.databricks.v1+cell": {
     "cellMetadata": {},
     "inputWidgets": {},
     "nuid": "387d43d7-3e34-49d3-858a-2932807c0fcd",
     "showTitle": false,
     "title": ""
    }
   },
   "outputs": [],
   "source": [
    "# Use the `CSVFileReader` to load and clean the csv files\n",
    "df_scrap = pd.concat([CSVFileReader(f).validate_file() for f in scraping_files])\\\n",
    "                .reset_index(drop = True)\n",
    "# Rename the categories assuming the following patter\n",
    "# `sku_name`, `competitor_name`, `url`, `price`\n",
    "df_scrap.columns = ['competitor_sku_name', 'competitor_name', \n",
    "                    'competitor_url', 'competitor_price']\n",
    "\n",
    "# Drop duplicates\n",
    "df_scrap = df_scrap.drop_duplicates(subset = \n",
    "                ['competitor_sku_name', 'competitor_name'])\n",
    "                \n",
    "# Convert competitors_column to categorical\n",
    "df_scrap['competitor_name'] = df_scrap['competitor_name'].astype('category')\n",
    "\n",
    "# Reset index\n",
    "# Add an index for future analaysis\n",
    "df_scrap = df_scrap.reset_index(names = 'scrap_id')\n",
    "\n",
    "# CONVER TO SPARK\n",
    "df_scrap = spark.createDataFrame(df_scrap)\n",
    "\n",
    "df_scrap.groupby('competitor_name').count().show()"
   ]
  },
  {
   "cell_type": "markdown",
   "metadata": {
    "application/vnd.databricks.v1+cell": {
     "cellMetadata": {},
     "inputWidgets": {},
     "nuid": "5af3e955-9566-45ab-bcbd-3cdf836f8de3",
     "showTitle": false,
     "title": ""
    }
   },
   "source": [
    "### Perform the text-cleaning phase of web scraping data"
   ]
  },
  {
   "cell_type": "code",
   "execution_count": 0,
   "metadata": {
    "application/vnd.databricks.v1+cell": {
     "cellMetadata": {},
     "inputWidgets": {},
     "nuid": "8aba85a6-a2e6-41c8-9202-fafe2cb02a70",
     "showTitle": false,
     "title": ""
    }
   },
   "outputs": [],
   "source": [
    "# Cleaning phase\n",
    "df_scrap = df_scrap.withColumn('comp_sku_name_clean', \n",
    "            normalize_text_udf(df_scrap['competitor_sku_name']))\n",
    "\n",
    "# df_scrap.orderBy(F.rand()).limit(10).show()\n",
    "df_scrap.show()"
   ]
  },
  {
   "cell_type": "markdown",
   "metadata": {
    "application/vnd.databricks.v1+cell": {
     "cellMetadata": {},
     "inputWidgets": {},
     "nuid": "3bdca76c-b17e-4e6d-ac66-2a9cdbf32751",
     "showTitle": false,
     "title": ""
    }
   },
   "source": [
    "## SKU matching phase\n",
    "\n",
    "### Number of evaluations to perform\n",
    "Calculate the number of evaluations to perform:\n",
    "\n",
    "$$N_{evals} = m * n$$\n",
    "where $m$= *number of Marketplace skus* and $n$ = *number of scraped products*"
   ]
  },
  {
   "cell_type": "code",
   "execution_count": 0,
   "metadata": {
    "application/vnd.databricks.v1+cell": {
     "cellMetadata": {},
     "inputWidgets": {},
     "nuid": "24cf237d-1383-47bb-8cda-3cb17d6c7e9b",
     "showTitle": false,
     "title": ""
    }
   },
   "outputs": [],
   "source": [
    "# Total de evaluaciones\n",
    "_n_rows_mkp = df_mkpt_prices.count()\n",
    "_n_rows_wsp = df_scrap.count()\n",
    "_n_evals =_n_rows_mkp * _n_rows_wsp\n",
    "print(f'[{_n_rows_mkp:,} mkp skus] * [{_n_rows_wsp:,} web scraping skus] ')\n",
    "print(f'= {_n_evals:,} evaluations')"
   ]
  },
  {
   "cell_type": "markdown",
   "metadata": {
    "application/vnd.databricks.v1+cell": {
     "cellMetadata": {},
     "inputWidgets": {},
     "nuid": "4f5fcb99-4156-42f9-8212-73a55167f609",
     "showTitle": false,
     "title": ""
    }
   },
   "source": [
    "Define a function to perform the matching phase and keep the best match between a given pair of competitor and marketplace skus."
   ]
  },
  {
   "cell_type": "markdown",
   "metadata": {
    "application/vnd.databricks.v1+cell": {
     "cellMetadata": {},
     "inputWidgets": {},
     "nuid": "7382ce52-e741-41cb-ae7b-1822be89b69a",
     "showTitle": false,
     "title": ""
    }
   },
   "source": [
    "### Perform the matching phase"
   ]
  },
  {
   "cell_type": "code",
   "execution_count": 0,
   "metadata": {
    "application/vnd.databricks.v1+cell": {
     "cellMetadata": {},
     "inputWidgets": {},
     "nuid": "f3d933ad-808a-4330-b394-f1e70c2b552c",
     "showTitle": false,
     "title": ""
    }
   },
   "outputs": [],
   "source": [
    "# Define the UDF for confidence matching \n",
    "@F.udf(FloatType())\n",
    "def get_confidence_udf(mktp_sku_clean_name, comp_sku_clean_name):\n",
    "    # Replace 'get_confidence'\n",
    "    conf = get_confidence(mktp_sku_clean_name, comp_sku_clean_name)\n",
    "    return conf"
   ]
  },
  {
   "cell_type": "code",
   "execution_count": 0,
   "metadata": {
    "application/vnd.databricks.v1+cell": {
     "cellMetadata": {},
     "inputWidgets": {},
     "nuid": "16cf76b8-5221-42ce-b82a-5d6ae9f0f423",
     "showTitle": false,
     "title": ""
    }
   },
   "outputs": [],
   "source": [
    "# Perform a cross join to obtain all pair combinations of mkp and comp products\n",
    "# Broadcast the smallest table to enhance performance, Keep only relevant columns\n",
    "# to avoid memory overload\n",
    "cj_df = F.broadcast(df_mkpt_prices.select(['mkp_sku_id', 'mkp_sku_name_clean']))\\\n",
    "        .crossJoin(df_scrap.select([\"scrap_id\", \"comp_sku_name_clean\"]))\n",
    "\n",
    "# Perform the pair-wise evaluation using the 'get_confidence'\n",
    "cj_df = cj_df.withColumn(\"confidence\", \n",
    "                 get_confidence_udf(F.col('mkp_sku_name_clean'), \n",
    "                                    F.col('comp_sku_name_clean')))\n",
    "\n",
    "# Now get the best mktp match for each competitor sku\n",
    "w = Window.partitionBy('scrap_id')\n",
    "match_df = cj_df\\\n",
    "        .withColumn('best_conf', F.max('confidence').over(w))\\\n",
    "        .where(F.col('confidence') == F.col('best_conf'))\\\n",
    "        .drop('best_conf')\\\n",
    "        .dropDuplicates(['scrap_id']) # Keep only one occurrence "
   ]
  },
  {
   "cell_type": "markdown",
   "metadata": {
    "application/vnd.databricks.v1+cell": {
     "cellMetadata": {},
     "inputWidgets": {},
     "nuid": "a8be14c2-419b-4732-b2b6-9bb800c7cf9f",
     "showTitle": false,
     "title": ""
    }
   },
   "source": [
    "### Format the output and save to `.parquet`\n",
    "\n",
    "1. Keep only relevant matches\n",
    "2. Include `scraping_date`\n",
    "3. Keep only relevant columns\n",
    "4. Compute `price_diff` and `price_index`"
   ]
  },
  {
   "cell_type": "code",
   "execution_count": 0,
   "metadata": {
    "application/vnd.databricks.v1+cell": {
     "cellMetadata": {},
     "inputWidgets": {},
     "nuid": "5541d2ed-1ea2-4ab3-a4a6-7d753712739a",
     "showTitle": false,
     "title": ""
    }
   },
   "outputs": [],
   "source": [
    "col_to_keep = ['scraping_date', 'mkp_sku_id', 'scrap_id', 'mkp_sku_name', 'competitor_name', \n",
    "               'competitor_sku_name', 'confidence', 'mkp_price', 'competitor_price', \n",
    "               'price_diff', 'price_index', 'mkp_sku_name_clean', 'comp_sku_name_clean', \n",
    "               'competitor_url']\n",
    "\n",
    "# Add the date column\n",
    "formatted_date = pd.to_datetime(scraping_date, format = '%d%m%Y').date()\n",
    "\n",
    "# Confidence interval\n",
    "conf_thr = 0.35\n",
    "\n",
    "match_df = match_df\\\n",
    "                .select(['scrap_id', 'mkp_sku_id', 'confidence'])\\\n",
    "                .join(df_scrap, ['scrap_id'], \"left\")\\\n",
    "                .join(df_mkpt_prices, ['mkp_sku_id'], \"left\")\\\n",
    "                .filter(F.col('confidence') >= conf_thr)\\\n",
    "                .withColumn('scraping_date', F.lit(formatted_date))\\\n",
    "                .withColumn('price_diff',  F.round(F.col('mkp_price') - F.col('competitor_price'), 2))\\\n",
    "                .withColumn('price_index', F.round(F.col('price_diff') / F.col('mkp_price'), 2))\\\n",
    "                .select(col_to_keep)\\\n",
    "                .fillna('', subset = ['competitor_url'])\\\n",
    "                .orderBy(F.col('mkp_sku_id'), F.col('confidence').desc())\n",
    "\n",
    "# Save to cache\n",
    "match_df.cache()\n",
    "output_path = f'{MATCHING_OUPUT_PATH}/{scraping_date}_prod_matched_TEST.parquet' \n",
    "match_df.write.parquet(output_path)\n",
    "match_df.count()\n",
    "        "
   ]
  },
  {
   "cell_type": "code",
   "execution_count": 0,
   "metadata": {
    "application/vnd.databricks.v1+cell": {
     "cellMetadata": {},
     "inputWidgets": {},
     "nuid": "8e024ae8-f7f7-4b2b-99c1-e950a2dc75dc",
     "showTitle": false,
     "title": ""
    }
   },
   "outputs": [],
   "source": [
    "match_df.show()"
   ]
  },
  {
   "cell_type": "code",
   "execution_count": 0,
   "metadata": {
    "application/vnd.databricks.v1+cell": {
     "cellMetadata": {},
     "inputWidgets": {},
     "nuid": "2834f762-eaf6-4344-b6ed-cb2414b5ec0a",
     "showTitle": false,
     "title": ""
    }
   },
   "outputs": [],
   "source": [
    "match_df.count()"
   ]
  },
  {
   "cell_type": "code",
   "execution_count": 0,
   "metadata": {
    "application/vnd.databricks.v1+cell": {
     "cellMetadata": {},
     "inputWidgets": {},
     "nuid": "6aca6413-0401-4379-8119-b2d9a4e0cdfc",
     "showTitle": false,
     "title": ""
    }
   },
   "outputs": [],
   "source": []
  }
 ],
 "metadata": {
  "application/vnd.databricks.v1+notebook": {
   "dashboards": [],
   "language": "python",
   "notebookMetadata": {
    "pythonIndentUnit": 4
   },
   "notebookName": "sku_matching_pyspark",
   "widgets": {}
  },
  "kernelspec": {
   "display_name": "sku_matching_env",
   "language": "python",
   "name": "python3"
  },
  "language_info": {
   "codemirror_mode": {
    "name": "ipython",
    "version": 3
   },
   "file_extension": ".py",
   "mimetype": "text/x-python",
   "name": "python",
   "nbconvert_exporter": "python",
   "pygments_lexer": "ipython3",
   "version": "3.11.4"
  }
 },
 "nbformat": 4,
 "nbformat_minor": 0
}
