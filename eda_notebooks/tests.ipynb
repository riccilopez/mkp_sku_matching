{
 "cells": [
  {
   "cell_type": "code",
   "execution_count": 1,
   "id": "6ef8f191-a667-45cb-b3a1-113767cc7a9e",
   "metadata": {},
   "outputs": [],
   "source": [
    "import sys\n",
    "import numpy as np\n",
    "sys.path.append('..')\n",
    "from modules.normalize_text import normalize_text, remove_special_characters, homogenize_units, extract_units\n",
    "from modules.distance_metrics import levenshtein_and_dice_ratio, jaccard_distance_units\n",
    "from modules.sku_matcher import get_confidence"
   ]
  },
  {
   "cell_type": "code",
   "execution_count": 2,
   "id": "5cfce4c9-b970-4b3e-82b3-f9a8b75921b9",
   "metadata": {},
   "outputs": [],
   "source": [
    "%load_ext autoreload\n",
    "%autoreload 2"
   ]
  },
  {
   "cell_type": "code",
   "execution_count": 3,
   "id": "f72f5e79-1ca4-4fad-a578-81a34f78ccdc",
   "metadata": {},
   "outputs": [],
   "source": [
    "# Performance"
   ]
  },
  {
   "cell_type": "code",
   "execution_count": 6,
   "id": "dd7a5f09-0bc4-4a49-908d-7cc36881a8f7",
   "metadata": {},
   "outputs": [],
   "source": [
    "def get_performance(s1, s2):\n",
    "    # Cleaning\n",
    "    a1 = normalize_text(s1)\n",
    "    a2 = normalize_text(s2)\n",
    "    print(a1, '\\n', a2, sep = '')\n",
    "    print()\n",
    "\n",
    "    # Confidence using only LevDice\n",
    "    lvd_conf = round(1 - levenshtein_and_dice_ratio(a1, a2), 2)\n",
    "    jac_conf = round(1 - jaccard_distance_units(a1, a2), 2)\n",
    "    comb_conf = get_confidence(a1, a2)\n",
    "    print(f'lvd_conf: {lvd_conf}, jac_conf: {jac_conf}, comb_conf: {comb_conf}')\n",
    "\n",
    "    # Extract units\n",
    "    b1 = extract_units(a1)\n",
    "    b2 = extract_units(a2)\n",
    "    display(b1, b2)\n",
    "    print()"
   ]
  },
  {
   "cell_type": "code",
   "execution_count": 7,
   "id": "1a0f6383",
   "metadata": {},
   "outputs": [
    {
     "name": "stdout",
     "output_type": "stream",
     "text": [
      "npvnpvnpvnpv\u00031lt 12pz\n",
      "npvnpvnpvnpv\u00031lt 4pz\n",
      "\n",
      "lvd_conf: 1.0, jac_conf: 0.33, comb_conf: 0.88\n"
     ]
    },
    {
     "data": {
      "text/plain": [
       "['1lt', '12pz']"
      ]
     },
     "metadata": {},
     "output_type": "display_data"
    },
    {
     "data": {
      "text/plain": [
       "['1lt', '4pz']"
      ]
     },
     "metadata": {},
     "output_type": "display_data"
    },
    {
     "name": "stdout",
     "output_type": "stream",
     "text": [
      "\n"
     ]
    }
   ],
   "source": [
    "## Extract units\n",
    "s1 = 'Agua Natural Nestle Pureza Vital botella 1 L 12 PIEZAS'\n",
    "s2 = \"NESTLE PV 1L 4 pzs Modelo\"\n",
    "get_performance(s1, s2)"
   ]
  },
  {
   "cell_type": "code",
   "execution_count": 9,
   "id": "165a7720-1cfd-441c-b767-ef5505a15f94",
   "metadata": {},
   "outputs": [
    {
     "name": "stdout",
     "output_type": "stream",
     "text": [
      "npvnpvnpvnpv\u00031lt 12pz\n",
      "npvnpvnpvnpv\u000312pz 1lt\n",
      "\n",
      "lvd_conf: 1.0, jac_conf: 1.0, comb_conf: 1.0\n"
     ]
    },
    {
     "data": {
      "text/plain": [
       "['1lt', '12pz']"
      ]
     },
     "metadata": {},
     "output_type": "display_data"
    },
    {
     "data": {
      "text/plain": [
       "['12pz', '1lt']"
      ]
     },
     "metadata": {},
     "output_type": "display_data"
    },
    {
     "name": "stdout",
     "output_type": "stream",
     "text": [
      "\n"
     ]
    }
   ],
   "source": [
    "## Extract units\n",
    "s1 = 'Agua Natural Nestle Pureza Vital botella 1 L 12 PIEZAS'\n",
    "s2 = \"NESTLE PV 12x1000 ML Modelo\"\n",
    "get_performance(s1, s2)"
   ]
  },
  {
   "cell_type": "code",
   "execution_count": 10,
   "id": "f4bc9094-c455-48fa-9c39-0229ee00b634",
   "metadata": {},
   "outputs": [
    {
     "name": "stdout",
     "output_type": "stream",
     "text": [
      "boingboingboing fresa 500ml 24pz\n",
      "boingboingboing surtido 500ml 24pz\n",
      "\n",
      "lvd_conf: 0.77, jac_conf: 1.0, comb_conf: 0.74\n"
     ]
    },
    {
     "data": {
      "text/plain": [
       "['500ml', '24pz']"
      ]
     },
     "metadata": {},
     "output_type": "display_data"
    },
    {
     "data": {
      "text/plain": [
       "['500ml', '24pz']"
      ]
     },
     "metadata": {},
     "output_type": "display_data"
    },
    {
     "name": "stdout",
     "output_type": "stream",
     "text": [
      "\n"
     ]
    }
   ],
   "source": [
    "## Extract units\n",
    "s1 = 'boing fresa 500ml 24pz'\n",
    "s2 = \"jugo boing surtidos 500ml - 24pz\"\n",
    "get_performance(s1, s2)\n"
   ]
  },
  {
   "cell_type": "code",
   "execution_count": 11,
   "id": "dc483dcd-bac7-4aa9-9932-7c55f2e303f9",
   "metadata": {},
   "outputs": [
    {
     "name": "stdout",
     "output_type": "stream",
     "text": [
      "pedigree re 100g 40pz pch\n",
      "pedigree rp pch re 100g 12pz\n",
      "\n",
      "lvd_conf: 0.92, jac_conf: 0.33, comb_conf: 0.78\n"
     ]
    },
    {
     "data": {
      "text/plain": [
       "['100g', '40pz']"
      ]
     },
     "metadata": {},
     "output_type": "display_data"
    },
    {
     "data": {
      "text/plain": [
       "['100g', '12pz']"
      ]
     },
     "metadata": {},
     "output_type": "display_data"
    },
    {
     "name": "stdout",
     "output_type": "stream",
     "text": [
      "\n"
     ]
    }
   ],
   "source": [
    "## Extract units\n",
    "s1 = 'pedigree re 100g 40 pz pouche'\n",
    "s2 = \"pedigree rp pouche res 100 gr 12 pz\"\n",
    "get_performance(s1, s2)"
   ]
  },
  {
   "cell_type": "code",
   "execution_count": 12,
   "id": "156c8fb9-8c40-4de6-8aca-8ffcef7d6d07",
   "metadata": {},
   "outputs": [
    {
     "name": "stdout",
     "output_type": "stream",
     "text": [
      "donpedro 200ml\n",
      "donpedro 200ml\n",
      "\n",
      "lvd_conf: 1.0, jac_conf: 1.0, comb_conf: 1.0\n"
     ]
    },
    {
     "data": {
      "text/plain": [
       "['200ml']"
      ]
     },
     "metadata": {},
     "output_type": "display_data"
    },
    {
     "data": {
      "text/plain": [
       "['200ml']"
      ]
     },
     "metadata": {},
     "output_type": "display_data"
    },
    {
     "name": "stdout",
     "output_type": "stream",
     "text": [
      "\n"
     ]
    }
   ],
   "source": [
    "## Extract units\n",
    "s1 = 'Brandy Domecq Don Pedro 200 ml Presentación'\n",
    "s2 = \"Brandy DON PEDRO 200ml\"\n",
    "get_performance(s1, s2)"
   ]
  },
  {
   "cell_type": "code",
   "execution_count": 13,
   "id": "28a43a19-8f0f-4f8e-8f54-b1a25525cdba",
   "metadata": {},
   "outputs": [
    {
     "name": "stdout",
     "output_type": "stream",
     "text": [
      "frijol black verdevalle 900g 20pz\n",
      "frijol black verdevalle 900g 20pz\n",
      "\n",
      "lvd_conf: 1.0, jac_conf: 1.0, comb_conf: 1.0\n"
     ]
    },
    {
     "data": {
      "text/plain": [
       "['900g', '20pz']"
      ]
     },
     "metadata": {},
     "output_type": "display_data"
    },
    {
     "data": {
      "text/plain": [
       "['900g', '20pz']"
      ]
     },
     "metadata": {},
     "output_type": "display_data"
    },
    {
     "name": "stdout",
     "output_type": "stream",
     "text": [
      "\n"
     ]
    }
   ],
   "source": [
    "## Extract units\n",
    "s1 = 'Frijol Negro Queretaro Verde Valle QUERETANO 900 g Presentación: Paquete - 20 artículo(s).'\n",
    "s2 = \"FRIJOL NEGRO VERDE VALLE 900G - 20 PZS\"\n",
    "get_performance(s1, s2)"
   ]
  },
  {
   "cell_type": "code",
   "execution_count": 14,
   "id": "aaf6aabb-a518-4fcf-87d8-edd3d81d32e6",
   "metadata": {},
   "outputs": [
    {
     "name": "stdout",
     "output_type": "stream",
     "text": [
      "vive100 300ml 24pz\n",
      "vive100 300ml 24pz\n",
      "\n",
      "lvd_conf: 1.0, jac_conf: 1.0, comb_conf: 1.0\n"
     ]
    },
    {
     "data": {
      "text/plain": [
       "['300ml', '24pz']"
      ]
     },
     "metadata": {},
     "output_type": "display_data"
    },
    {
     "data": {
      "text/plain": [
       "['300ml', '24pz']"
      ]
     },
     "metadata": {},
     "output_type": "display_data"
    },
    {
     "name": "stdout",
     "output_type": "stream",
     "text": [
      "\n"
     ]
    }
   ],
   "source": [
    "## Extract units\n",
    "s1 = 'Caja bebida energetica Vive 100 300M/24P 355 ml en 24 piezas'\n",
    "s2 = \"VIVE 100 botella original 300ML 24 PIEZAS PACK\"\n",
    "get_performance(s1, s2)"
   ]
  },
  {
   "cell_type": "code",
   "execution_count": 15,
   "id": "33e58c91-7f5c-41b1-b5f9-1f4dfbe1a0ee",
   "metadata": {},
   "outputs": [
    {
     "name": "stdout",
     "output_type": "stream",
     "text": [
      "ranchoescondido 700ml\n",
      "ranchoescondido anejado 700ml\n",
      "\n",
      "lvd_conf: 0.8, jac_conf: 1.0, comb_conf: 0.78\n"
     ]
    },
    {
     "data": {
      "text/plain": [
       "['700ml']"
      ]
     },
     "metadata": {},
     "output_type": "display_data"
    },
    {
     "data": {
      "text/plain": [
       "['700ml']"
      ]
     },
     "metadata": {},
     "output_type": "display_data"
    },
    {
     "name": "stdout",
     "output_type": "stream",
     "text": [
      "\n"
     ]
    }
   ],
   "source": [
    "## Extract units\n",
    "s1 = 'Destilado de agave Rancho Escondido 750ml 1 pieza'\n",
    "s2 = \"LICOR RANCHO ESCONDIDO anejado 750ml\"\n",
    "get_performance(s1, s2)"
   ]
  },
  {
   "cell_type": "code",
   "execution_count": 16,
   "id": "003227ed-ce6e-4625-9ca5-7c6e16a9172c",
   "metadata": {},
   "outputs": [
    {
     "name": "stdout",
     "output_type": "stream",
     "text": [
      "red bull sugar free 200ml\n",
      "red bull sugar free 200ml 4pz\n",
      "\n",
      "lvd_conf: 1.0, jac_conf: 0.5, comb_conf: 0.91\n"
     ]
    },
    {
     "data": {
      "text/plain": [
       "['200ml']"
      ]
     },
     "metadata": {},
     "output_type": "display_data"
    },
    {
     "data": {
      "text/plain": [
       "['200ml', '4pz']"
      ]
     },
     "metadata": {},
     "output_type": "display_data"
    },
    {
     "name": "stdout",
     "output_type": "stream",
     "text": [
      "\n"
     ]
    }
   ],
   "source": [
    "## Extract units\n",
    "s1 = 'Bebida Energizante Red Bull Sugar Free 250 Ml'\n",
    "s2 = \"RED BULL SUGAR FREE 250 ML - 4 PACK\"\n",
    "get_performance(s1, s2)"
   ]
  },
  {
   "cell_type": "code",
   "execution_count": 17,
   "id": "acd4bf5c-d913-4b73-8c75-b0e192206f26",
   "metadata": {},
   "outputs": [
    {
     "name": "stdout",
     "output_type": "stream",
     "text": [
      "santa maria 1lt 12pz\n",
      "santa maria 1.5lt 12pz\n",
      "\n",
      "lvd_conf: 0.92, jac_conf: 0.33, comb_conf: 0.78\n"
     ]
    },
    {
     "data": {
      "text/plain": [
       "['1lt', '12pz']"
      ]
     },
     "metadata": {},
     "output_type": "display_data"
    },
    {
     "data": {
      "text/plain": [
       "['1.5lt', '12pz']"
      ]
     },
     "metadata": {},
     "output_type": "display_data"
    },
    {
     "name": "stdout",
     "output_type": "stream",
     "text": [
      "\n"
     ]
    }
   ],
   "source": [
    "s1 = 'Paquete agua Santa Maria 1L/12P 1 litro con 12 piezas'\n",
    "s2 = \"SANTA MARIA 1.5L - 12PZS\"\n",
    "get_performance(s1, s2)"
   ]
  },
  {
   "cell_type": "code",
   "execution_count": 18,
   "id": "stunning-topic",
   "metadata": {},
   "outputs": [
    {
     "name": "stdout",
     "output_type": "stream",
     "text": [
      "caribecoolercaribecoolercaribecooler\u0003tinto 300ml 12pz\n",
      "caribecoolercaribecoolercaribecooler\u0003tinto 300ml 12pz\n",
      "\n",
      "lvd_conf: 1.0, jac_conf: 1.0, comb_conf: 1.0\n"
     ]
    },
    {
     "data": {
      "text/plain": [
       "['300ml', '12pz']"
      ]
     },
     "metadata": {},
     "output_type": "display_data"
    },
    {
     "data": {
      "text/plain": [
       "['300ml', '12pz']"
      ]
     },
     "metadata": {},
     "output_type": "display_data"
    },
    {
     "name": "stdout",
     "output_type": "stream",
     "text": [
      "\n"
     ]
    }
   ],
   "source": [
    "## Extract units\n",
    "s1 = 'Bebida Caribe Cooler Tinto 300 ml Presentación: Caja 12 Artículo(s)'\n",
    "s2 = \"CARIBE COOLER TINTO 300 ML - 12 PZ\"\n",
    "get_performance(s1, s2)"
   ]
  },
  {
   "cell_type": "code",
   "execution_count": 19,
   "id": "b16319b0-ae0e-44d9-b7c8-ed1dc687a69a",
   "metadata": {},
   "outputs": [
    {
     "name": "stdout",
     "output_type": "stream",
     "text": [
      "electrolit mora azul 600ml 12pz\n",
      "electrolit mora azul 600ml 12pz\n",
      "\n",
      "lvd_conf: 1.0, jac_conf: 1.0, comb_conf: 1.0\n"
     ]
    },
    {
     "data": {
      "text/plain": [
       "['600ml', '12pz']"
      ]
     },
     "metadata": {},
     "output_type": "display_data"
    },
    {
     "data": {
      "text/plain": [
       "['600ml', '12pz']"
      ]
     },
     "metadata": {},
     "output_type": "display_data"
    },
    {
     "name": "stdout",
     "output_type": "stream",
     "text": [
      "\n"
     ]
    }
   ],
   "source": [
    "## Extract units\n",
    "s1 = 'suero electrolit mora azul 625ml presentacion 12 ártículos'\n",
    "s2 = \"electrolit mora azul 625ml 12pz\"\n",
    "get_performance(s1, s2)"
   ]
  },
  {
   "cell_type": "code",
   "execution_count": 20,
   "id": "handmade-judges",
   "metadata": {},
   "outputs": [
    {
     "name": "stdout",
     "output_type": "stream",
     "text": [
      "cuetara\n",
      "electrolit fresa kiwi 600ml 12pz\n",
      "\n",
      "lvd_conf: 0.31, jac_conf: 0.0, comb_conf: 0.0\n"
     ]
    },
    {
     "data": {
      "text/plain": [
       "[]"
      ]
     },
     "metadata": {},
     "output_type": "display_data"
    },
    {
     "data": {
      "text/plain": [
       "['600ml', '12pz']"
      ]
     },
     "metadata": {},
     "output_type": "display_data"
    },
    {
     "name": "stdout",
     "output_type": "stream",
     "text": [
      "\n"
     ]
    }
   ],
   "source": [
    "## Extract units\n",
    "s1 = '&apos;Cuétara'\n",
    "s2 = \"Electrolit Fresa Kiwi 625 ml Caja con 12\"\n",
    "get_performance(s1, s2)"
   ]
  },
  {
   "cell_type": "code",
   "execution_count": 21,
   "id": "preliminary-agriculture",
   "metadata": {},
   "outputs": [
    {
     "name": "stdout",
     "output_type": "stream",
     "text": [
      "veladora rosita 12pz\n",
      "velrositavelrositavelrosita\u000312pz 1\n",
      "\n",
      "lvd_conf: 0.57, jac_conf: 1.0, comb_conf: 0.47\n"
     ]
    },
    {
     "data": {
      "text/plain": [
       "['12pz']"
      ]
     },
     "metadata": {},
     "output_type": "display_data"
    },
    {
     "data": {
      "text/plain": [
       "['12pz']"
      ]
     },
     "metadata": {},
     "output_type": "display_data"
    },
    {
     "name": "stdout",
     "output_type": "stream",
     "text": [
      "\n"
     ]
    }
   ],
   "source": [
    "## Extract units\n",
    "s1 = 'VELADORA ROSITA 12  - PZS'\n",
    "s2 = \"Vel Rosita con 12 botellas de 1\"\n",
    "get_performance(s1, s2)"
   ]
  },
  {
   "cell_type": "code",
   "execution_count": 23,
   "id": "painful-region",
   "metadata": {},
   "outputs": [
    {
     "name": "stdout",
     "output_type": "stream",
     "text": [
      "lalalalalalalala\u0003leche light 1lt 12pz\n",
      "leche lalalalalalalala\u0003delac light 12pz 1lt\n",
      "\n",
      "lvd_conf: 0.9, jac_conf: 1.0, comb_conf: 0.9\n"
     ]
    },
    {
     "data": {
      "text/plain": [
       "['1lt', '12pz']"
      ]
     },
     "metadata": {},
     "output_type": "display_data"
    },
    {
     "data": {
      "text/plain": [
       "['12pz', '1lt']"
      ]
     },
     "metadata": {},
     "output_type": "display_data"
    },
    {
     "name": "stdout",
     "output_type": "stream",
     "text": [
      "\n"
     ]
    }
   ],
   "source": [
    "## Extract units\n",
    "s1 = 'LALA LECHE LIGHT 1L - 12 PZS'\n",
    "s2 = \"leche Lala deslactosada Light 12/1L\"\n",
    "get_performance(s1, s2)"
   ]
  },
  {
   "cell_type": "code",
   "execution_count": 24,
   "id": "94b96b5a-6639-479c-8cc5-b8c24eb089d1",
   "metadata": {},
   "outputs": [
    {
     "name": "stdout",
     "output_type": "stream",
     "text": [
      "chiva regal whisky 12ano 700ml\n",
      "whisky chiva regal 12ano 12pz 700ml\n",
      "\n",
      "lvd_conf: 1.0, jac_conf: 0.5, comb_conf: 0.91\n"
     ]
    },
    {
     "data": {
      "text/plain": [
       "['700ml']"
      ]
     },
     "metadata": {},
     "output_type": "display_data"
    },
    {
     "data": {
      "text/plain": [
       "['12pz', '700ml']"
      ]
     },
     "metadata": {},
     "output_type": "display_data"
    },
    {
     "name": "stdout",
     "output_type": "stream",
     "text": [
      "\n"
     ]
    }
   ],
   "source": [
    "s1 = 'CHIVAS REGAL WHISKY 12 ANOS 750ML-1PZ'\n",
    "s2 = 'Caja Whisky Chivas Regal 12 Anos 12P/750M'\n",
    "get_performance(s1, s2)"
   ]
  },
  {
   "cell_type": "code",
   "execution_count": 25,
   "id": "dce21672-5ca2-46bc-93b8-95240522c32b",
   "metadata": {},
   "outputs": [
    {
     "name": "stdout",
     "output_type": "stream",
     "text": [
      "marlboro red 20pz 10pz\n",
      "walker red 1lt\n",
      "\n",
      "lvd_conf: 0.3, jac_conf: 0.0, comb_conf: 0.0\n"
     ]
    },
    {
     "data": {
      "text/plain": [
       "['20pz', '10pz']"
      ]
     },
     "metadata": {},
     "output_type": "display_data"
    },
    {
     "data": {
      "text/plain": [
       "['1lt']"
      ]
     },
     "metadata": {},
     "output_type": "display_data"
    },
    {
     "name": "stdout",
     "output_type": "stream",
     "text": [
      "\n"
     ]
    }
   ],
   "source": [
    "## Extract units\n",
    "s1 = 'marlboro red 20pz 10pz'\n",
    "s2 = \"Walker Etiqueta Roja Litro 1000ml\"\n",
    "get_performance(s1, s2)"
   ]
  },
  {
   "cell_type": "code",
   "execution_count": 26,
   "id": "89919298-3d82-490b-aa8c-3c079820dcc8",
   "metadata": {},
   "outputs": [
    {
     "name": "stdout",
     "output_type": "stream",
     "text": [
      "new mix vampiro 400ml 24pz\n",
      "red mix vampiro 24pz 400ml\n",
      "\n",
      "lvd_conf: 0.87, jac_conf: 1.0, comb_conf: 0.86\n"
     ]
    },
    {
     "data": {
      "text/plain": [
       "['400ml', '24pz']"
      ]
     },
     "metadata": {},
     "output_type": "display_data"
    },
    {
     "data": {
      "text/plain": [
       "['24pz', '400ml']"
      ]
     },
     "metadata": {},
     "output_type": "display_data"
    },
    {
     "name": "stdout",
     "output_type": "stream",
     "text": [
      "\n"
     ]
    }
   ],
   "source": [
    "## Extract units\n",
    "s1 = 'NEW MIX VAMPIRO LATON 473ML - 24 PZS'\n",
    "s2 = 'Caja bebida Red Mix Vampiro 24P/473M'\n",
    "get_performance(s1, s2)"
   ]
  },
  {
   "cell_type": "code",
   "execution_count": 27,
   "id": "c00492ff-8441-46eb-a0fc-414ba94cf259",
   "metadata": {},
   "outputs": [
    {
     "name": "stdout",
     "output_type": "stream",
     "text": [
      "caribecoolercaribecoolercaribecooler\u0003fresa 300ml 12pz\n",
      "caribecoolercaribecoolercaribecooler\u0003tinto 300ml 12pz\n",
      "\n",
      "lvd_conf: 0.88, jac_conf: 1.0, comb_conf: 0.87\n"
     ]
    },
    {
     "data": {
      "text/plain": [
       "['300ml', '12pz']"
      ]
     },
     "metadata": {},
     "output_type": "display_data"
    },
    {
     "data": {
      "text/plain": [
       "['300ml', '12pz']"
      ]
     },
     "metadata": {},
     "output_type": "display_data"
    },
    {
     "name": "stdout",
     "output_type": "stream",
     "text": [
      "\n"
     ]
    }
   ],
   "source": [
    "## Extract units\n",
    "s1 = 'CARIBE COOLER FRESA 300ML - 12 PZS'\n",
    "s2 = 'Caja bebida Caribe Cooler tinto 300M/12P'\n",
    "get_performance(s1, s2)"
   ]
  },
  {
   "cell_type": "code",
   "execution_count": 29,
   "id": "4ab764b7-2564-4698-b2e0-5d6f4454b9f0",
   "metadata": {},
   "outputs": [
    {
     "name": "stdout",
     "output_type": "stream",
     "text": [
      "vodka absolut 700ml\n",
      "vodka absolut raspberri 700ml\n",
      "\n",
      "lvd_conf: 0.73, jac_conf: 1.0, comb_conf: 0.69\n"
     ]
    },
    {
     "data": {
      "text/plain": [
       "['700ml']"
      ]
     },
     "metadata": {},
     "output_type": "display_data"
    },
    {
     "data": {
      "text/plain": [
       "['700ml']"
      ]
     },
     "metadata": {},
     "output_type": "display_data"
    },
    {
     "name": "stdout",
     "output_type": "stream",
     "text": [
      "\n"
     ]
    }
   ],
   "source": [
    "## Extract units\n",
    "s1 = 'VODKA ABSOLUT 750 ML - 1 PZ'\n",
    "s2 = 'Vodka Absolut Raspberri 750M - ZK'\n",
    "get_performance(s1, s2)"
   ]
  },
  {
   "cell_type": "code",
   "execution_count": 30,
   "id": "bd28da38",
   "metadata": {},
   "outputs": [
    {
     "data": {
      "text/plain": [
       "'rrrerrre'"
      ]
     },
     "execution_count": 30,
     "metadata": {},
     "output_type": "execute_result"
    }
   ],
   "source": [
    "'rrre'*2"
   ]
  },
  {
   "cell_type": "code",
   "execution_count": 31,
   "id": "a4cb1770-2ca1-42b8-93c5-710f193f8962",
   "metadata": {},
   "outputs": [
    {
     "name": "stdout",
     "output_type": "stream",
     "text": [
      "smirnoff vodka 700ml\n",
      "vodka smirnoff 12pz 700ml\n",
      "\n",
      "lvd_conf: 1.0, jac_conf: 0.5, comb_conf: 0.91\n"
     ]
    },
    {
     "data": {
      "text/plain": [
       "['700ml']"
      ]
     },
     "metadata": {},
     "output_type": "display_data"
    },
    {
     "data": {
      "text/plain": [
       "['12pz', '700ml']"
      ]
     },
     "metadata": {},
     "output_type": "display_data"
    },
    {
     "name": "stdout",
     "output_type": "stream",
     "text": [
      "\n"
     ]
    }
   ],
   "source": [
    "## Extract units\n",
    "s1 = 'SMIRNOFF VODKA 750 ML - 1PZ'\n",
    "s2 = 'Caja Vodka Smirnoff 12P/750M'\n",
    "get_performance(s1, s2)"
   ]
  },
  {
   "cell_type": "code",
   "execution_count": 32,
   "id": "8892baa6-5f02-4762-818e-a16081a0c581",
   "metadata": {},
   "outputs": [
    {
     "name": "stdout",
     "output_type": "stream",
     "text": [
      "skyyskyyskyyskyy\u0003blue 200ml 24pz\n",
      "skyyskyyskyyskyy\u0003blue 200ml 24pz\n",
      "\n",
      "lvd_conf: 1.0, jac_conf: 1.0, comb_conf: 1.0\n"
     ]
    },
    {
     "data": {
      "text/plain": [
       "['200ml', '24pz']"
      ]
     },
     "metadata": {},
     "output_type": "display_data"
    },
    {
     "data": {
      "text/plain": [
       "['200ml', '24pz']"
      ]
     },
     "metadata": {},
     "output_type": "display_data"
    },
    {
     "name": "stdout",
     "output_type": "stream",
     "text": [
      "\n"
     ]
    }
   ],
   "source": [
    "## Extract units\n",
    "s1 = 'SKYY BLUE 275 ML - 24 PZS'\n",
    "s2 = 'Caja bebida Vodka skyy blue 275M/24P'\n",
    "get_performance(s1, s2)"
   ]
  },
  {
   "cell_type": "code",
   "execution_count": 35,
   "id": "b51410af-7417-415f-ab10-4b1a8cf06a48",
   "metadata": {},
   "outputs": [
    {
     "name": "stdout",
     "output_type": "stream",
     "text": [
      "smirnoffsmirnoffsmirnoff\u0003vodka red 1lt\n",
      "vodka smirnoffsmirnoffsmirnoff\u000312pz 1lt\n",
      "\n",
      "lvd_conf: 0.94, jac_conf: 0.5, comb_conf: 0.84\n"
     ]
    },
    {
     "data": {
      "text/plain": [
       "['1lt']"
      ]
     },
     "metadata": {},
     "output_type": "display_data"
    },
    {
     "data": {
      "text/plain": [
       "['12pz', '1lt']"
      ]
     },
     "metadata": {},
     "output_type": "display_data"
    },
    {
     "name": "stdout",
     "output_type": "stream",
     "text": [
      "\n"
     ]
    }
   ],
   "source": [
    "## Extract units\n",
    "s1 = 'SMIRNOFF VODKA ETIQUETA ROJA 1L - 1PZ'\n",
    "s2 = 'Caja Vodka Smirnoff 12P/1L'\n",
    "get_performance(s1, s2)"
   ]
  },
  {
   "cell_type": "code",
   "execution_count": 36,
   "id": "9268a505-16ce-405a-b43b-6e9c027c964c",
   "metadata": {},
   "outputs": [
    {
     "name": "stdout",
     "output_type": "stream",
     "text": [
      "skyyskyyskyyskyy\u0003appletini 200ml 24pz\n",
      "skyyskyyskyyskyy\u0003blue 200ml 24pz\n",
      "\n",
      "lvd_conf: 0.8, jac_conf: 1.0, comb_conf: 0.77\n"
     ]
    },
    {
     "data": {
      "text/plain": [
       "['200ml', '24pz']"
      ]
     },
     "metadata": {},
     "output_type": "display_data"
    },
    {
     "data": {
      "text/plain": [
       "['200ml', '24pz']"
      ]
     },
     "metadata": {},
     "output_type": "display_data"
    },
    {
     "name": "stdout",
     "output_type": "stream",
     "text": [
      "\n"
     ]
    }
   ],
   "source": [
    "## Extract units\n",
    "s1 = 'SKYY APPLETINI 275 ML - 24 PZS'\n",
    "s2 = 'Caja bebida Vodka skyy blue 275M/24P'\n",
    "get_performance(s1, s2)"
   ]
  },
  {
   "cell_type": "code",
   "execution_count": 37,
   "id": "d5f1545e-5b0f-4ca4-9726-f23dcc4b5bbf",
   "metadata": {},
   "outputs": [
    {
     "name": "stdout",
     "output_type": "stream",
     "text": [
      "vodka absolut 700ml\n",
      "vodka absolut azul 700ml\n",
      "\n",
      "lvd_conf: 0.85, jac_conf: 1.0, comb_conf: 0.84\n"
     ]
    },
    {
     "data": {
      "text/plain": [
       "['700ml']"
      ]
     },
     "metadata": {},
     "output_type": "display_data"
    },
    {
     "data": {
      "text/plain": [
       "['700ml']"
      ]
     },
     "metadata": {},
     "output_type": "display_data"
    },
    {
     "name": "stdout",
     "output_type": "stream",
     "text": [
      "\n"
     ]
    }
   ],
   "source": [
    "## Extract units\n",
    "s1 = 'VODKA ABSOLUT 750 ML - 1 PZ'\n",
    "s2 = 'Vodka Absolut Azul 750ml'\n",
    "get_performance(s1, s2)"
   ]
  },
  {
   "cell_type": "code",
   "execution_count": 40,
   "id": "afeb5e23-34f7-4209-a275-1fe60ea38b75",
   "metadata": {},
   "outputs": [
    {
     "name": "stdout",
     "output_type": "stream",
     "text": [
      "teq cuervocuervocuervocuervo\u0003esp 600ml\n",
      "teq cuervocuervocuervocuervo\u0003trad rep 600ml\n",
      "\n",
      "lvd_conf: 0.9, jac_conf: 1.0, comb_conf: 0.89\n"
     ]
    },
    {
     "data": {
      "text/plain": [
       "['600ml']"
      ]
     },
     "metadata": {},
     "output_type": "display_data"
    },
    {
     "data": {
      "text/plain": [
       "['600ml']"
      ]
     },
     "metadata": {},
     "output_type": "display_data"
    },
    {
     "name": "stdout",
     "output_type": "stream",
     "text": [
      "\n"
     ]
    }
   ],
   "source": [
    "## Extract units\n",
    "s1 = 'TEQUILA JOSE CUERVO ESPECIAL 695ML - 1PZ'\n",
    "s2 = 'Tequila Cuervo Tradicional Reposado 695 ml'\n",
    "get_performance(s1, s2)"
   ]
  },
  {
   "cell_type": "code",
   "execution_count": 41,
   "id": "9674504a-8c55-443a-8669-b34187633612",
   "metadata": {},
   "outputs": [
    {
     "name": "stdout",
     "output_type": "stream",
     "text": [
      "galleta animalits\n",
      "whisky johnnie walker double black 700ml\n",
      "\n",
      "lvd_conf: 0.29, jac_conf: 0.0, comb_conf: 0.0\n"
     ]
    },
    {
     "data": {
      "text/plain": [
       "[]"
      ]
     },
     "metadata": {},
     "output_type": "display_data"
    },
    {
     "data": {
      "text/plain": [
       "['700ml']"
      ]
     },
     "metadata": {},
     "output_type": "display_data"
    },
    {
     "name": "stdout",
     "output_type": "stream",
     "text": [
      "\n"
     ]
    }
   ],
   "source": [
    "## Extract units\n",
    "s1 = 'Galletas de animalits'\n",
    "s2 = 'Whisky Johnnie Walker Double Black Label 750 ml'\n",
    "get_performance(s1, s2)"
   ]
  },
  {
   "cell_type": "code",
   "execution_count": 48,
   "id": "20d17a1e-f547-409f-bd34-e93f6cee8abf",
   "metadata": {},
   "outputs": [
    {
     "name": "stdout",
     "output_type": "stream",
     "text": [
      "cuervocuervocuervocuervo\u00031800 cristal 700ml\n",
      "cuervocuervocuervocuervo\u00031800 anejo cristal 100 700ml\n",
      "\n",
      "lvd_conf: 0.88, jac_conf: 1.0, comb_conf: 0.88\n"
     ]
    },
    {
     "data": {
      "text/plain": [
       "['700ml']"
      ]
     },
     "metadata": {},
     "output_type": "display_data"
    },
    {
     "data": {
      "text/plain": [
       "['700ml']"
      ]
     },
     "metadata": {},
     "output_type": "display_data"
    },
    {
     "name": "stdout",
     "output_type": "stream",
     "text": [
      "\n"
     ]
    }
   ],
   "source": [
    "## Extract units\n",
    "s1 = 'JOSE CUERVO TEQ 1800 CRISTAL 700ML-1PZ'\n",
    "s2 = 'Tequila 1800 Anejo Cristalino 100% 700ml'\n",
    "get_performance(s1, s2)"
   ]
  },
  {
   "cell_type": "code",
   "execution_count": 140,
   "id": "f1a920f9-0d5b-4615-8b89-3b96eee9f416",
   "metadata": {},
   "outputs": [
    {
     "name": "stdout",
     "output_type": "stream",
     "text": [
      "skyyskyyskyyskyy\u0003appletini 200ml 24pz\n",
      "skyyskyyskyyskyy\u0003appletini 200ml 6pz\n",
      "\n",
      "lvd_conf: 1.0, jac_conf: 0.33, comb_conf: 0.88\n"
     ]
    },
    {
     "data": {
      "text/plain": [
       "['200ml', '24pz']"
      ]
     },
     "metadata": {},
     "output_type": "display_data"
    },
    {
     "data": {
      "text/plain": [
       "['200ml', '6pz']"
      ]
     },
     "metadata": {},
     "output_type": "display_data"
    },
    {
     "name": "stdout",
     "output_type": "stream",
     "text": [
      "\n"
     ]
    }
   ],
   "source": [
    "## Extract units\n",
    "s1 = 'SKYY APPLETINI 275 ML - 24 PZS'\n",
    "s2 = 'Skyy Appletini 275ml (6pz)'\n",
    "get_performance(s1, s2)"
   ]
  },
  {
   "cell_type": "code",
   "execution_count": 141,
   "id": "ba964f52-7478-487f-b604-3452ab09529f",
   "metadata": {},
   "outputs": [
    {
     "name": "stdout",
     "output_type": "stream",
     "text": [
      "sauzahaciendasauzahaciendasauzahacienda teq rep 1lt\n",
      "teq sauzahaciendasauzahaciendasauzahacienda rep 700ml\n",
      "\n",
      "lvd_conf: 1.0, jac_conf: 0.0, comb_conf: 0.81\n"
     ]
    },
    {
     "data": {
      "text/plain": [
       "['1lt']"
      ]
     },
     "metadata": {},
     "output_type": "display_data"
    },
    {
     "data": {
      "text/plain": [
       "['700ml']"
      ]
     },
     "metadata": {},
     "output_type": "display_data"
    },
    {
     "name": "stdout",
     "output_type": "stream",
     "text": [
      "\n"
     ]
    }
   ],
   "source": [
    "## Extract units\n",
    "s1 = 'SAUZA HACIENDA TEQUILA REPOSADO 1Lt-1PZ'\n",
    "s2 = 'Tequila Sauza Hacienda Rep 700ml-1pz'\n",
    "get_performance(s1, s2)"
   ]
  },
  {
   "cell_type": "code",
   "execution_count": 144,
   "id": "c2a8c159-414f-4620-b0c7-b6728f568c57",
   "metadata": {},
   "outputs": [
    {
     "name": "stdout",
     "output_type": "stream",
     "text": [
      "electrolit pina 600ml 12pz\n",
      "electrolit pina 600ml 12pz\n",
      "\n",
      "lvd_conf: 1.0, jac_conf: 1.0, comb_conf: 1.0\n"
     ]
    },
    {
     "data": {
      "text/plain": [
       "['600ml', '12pz']"
      ]
     },
     "metadata": {},
     "output_type": "display_data"
    },
    {
     "data": {
      "text/plain": [
       "['600ml', '12pz']"
      ]
     },
     "metadata": {},
     "output_type": "display_data"
    },
    {
     "name": "stdout",
     "output_type": "stream",
     "text": [
      "\n"
     ]
    }
   ],
   "source": [
    "## Extract units\n",
    "s1 = 'ELECTROLIT pina 625ML - 12PZS'\n",
    "s2 = 'Electrolit Pina 625 ml Caja con 12 Electrolit'\n",
    "get_performance(s1, s2)"
   ]
  },
  {
   "cell_type": "code",
   "execution_count": 155,
   "id": "6ddae70d-4e58-4d7e-8e59-a87b2abc9be2",
   "metadata": {},
   "outputs": [
    {
     "data": {
      "text/plain": [
       "'salsa loltun habanero red 100g 24pz'"
      ]
     },
     "metadata": {},
     "output_type": "display_data"
    },
    {
     "data": {
      "text/plain": [
       "'salsa loltun habanera 24pz 100g'"
      ]
     },
     "metadata": {},
     "output_type": "display_data"
    },
    {
     "name": "stdout",
     "output_type": "stream",
     "text": [
      "\n"
     ]
    },
    {
     "data": {
      "text/plain": [
       "0.91"
      ]
     },
     "metadata": {},
     "output_type": "display_data"
    },
    {
     "data": {
      "text/plain": [
       "1.0"
      ]
     },
     "metadata": {},
     "output_type": "display_data"
    },
    {
     "data": {
      "text/plain": [
       "0.91"
      ]
     },
     "metadata": {},
     "output_type": "display_data"
    },
    {
     "name": "stdout",
     "output_type": "stream",
     "text": [
      "\n"
     ]
    },
    {
     "data": {
      "text/plain": [
       "['100g', '24pz']"
      ]
     },
     "metadata": {},
     "output_type": "display_data"
    },
    {
     "data": {
      "text/plain": [
       "['24pz', '100g']"
      ]
     },
     "metadata": {},
     "output_type": "display_data"
    },
    {
     "name": "stdout",
     "output_type": "stream",
     "text": [
      "\n"
     ]
    }
   ],
   "source": [
    "## Extract units\n",
    "s1 = 'SALSA LOLTUN HABANERO ROJO 150G - 24 PZS'\n",
    "s2 = 'SALSA LOL-TUN HABANERA 24/150 G *PROMO'\n",
    "get_performance(s1, s2)"
   ]
  },
  {
   "cell_type": "code",
   "execution_count": 51,
   "id": "82d02eb5-c96a-4cda-8970-b0900b6385ac",
   "metadata": {},
   "outputs": [
    {
     "name": "stdout",
     "output_type": "stream",
     "text": [
      "jumexjumexjumexjumex\u0003mango 40pz 200ml\n",
      "jumexjumexjumexjumex\u0003mango 24pz 200ml\n",
      "\n",
      "lvd_conf: 1.0, jac_conf: 0.33, comb_conf: 0.88\n"
     ]
    },
    {
     "data": {
      "text/plain": [
       "['40pz', '200ml']"
      ]
     },
     "metadata": {},
     "output_type": "display_data"
    },
    {
     "data": {
      "text/plain": [
       "['24pz', '200ml']"
      ]
     },
     "metadata": {},
     "output_type": "display_data"
    },
    {
     "name": "stdout",
     "output_type": "stream",
     "text": [
      "\n"
     ]
    }
   ],
   "source": [
    "## Extract units\n",
    "s1 = 'JUGO JUMEX MANGO 40 PZS 250ml'\n",
    "s2 = 'Jumex Mango 24/250 ml Jumex'\n",
    "get_performance(s1, s2)"
   ]
  },
  {
   "cell_type": "code",
   "execution_count": 52,
   "id": "f558525f-3291-4713-9258-787a04c66dcf",
   "metadata": {},
   "outputs": [
    {
     "name": "stdout",
     "output_type": "stream",
     "text": [
      "croqueta poder canino adulto 25kg\n",
      "poder canino adulto 25kg\n",
      "\n",
      "lvd_conf: 0.82, jac_conf: 1.0, comb_conf: 0.8\n"
     ]
    },
    {
     "data": {
      "text/plain": [
       "['25kg']"
      ]
     },
     "metadata": {},
     "output_type": "display_data"
    },
    {
     "data": {
      "text/plain": [
       "['25kg']"
      ]
     },
     "metadata": {},
     "output_type": "display_data"
    },
    {
     "name": "stdout",
     "output_type": "stream",
     "text": [
      "\n"
     ]
    }
   ],
   "source": [
    "## Extract units\n",
    "s1 = 'CROQUETAS PODER CANINO ADULTO 25KG 1 PZA'\n",
    "s2 = 'Poder Canino Adulto 25 Kg'\n",
    "get_performance(s1, s2)"
   ]
  },
  {
   "cell_type": "code",
   "execution_count": 53,
   "id": "181972f5-06b9-4ea4-83aa-e5c74ce4e77c",
   "metadata": {},
   "outputs": [
    {
     "name": "stdout",
     "output_type": "stream",
     "text": [
      "atun dolore agua 100g 6pz\n",
      "atun dolore agua 100g 6pz\n",
      "\n",
      "lvd_conf: 1.0, jac_conf: 1.0, comb_conf: 1.0\n"
     ]
    },
    {
     "data": {
      "text/plain": [
       "['100g', '6pz']"
      ]
     },
     "metadata": {},
     "output_type": "display_data"
    },
    {
     "data": {
      "text/plain": [
       "['100g', '6pz']"
      ]
     },
     "metadata": {},
     "output_type": "display_data"
    },
    {
     "name": "stdout",
     "output_type": "stream",
     "text": [
      "\n"
     ]
    }
   ],
   "source": [
    "## Extract units\n",
    "s1 = 'ATUN DOLORES EN AGUA 133 GR - 6 PZS'\n",
    "s2 = 'Atun Dolores en Agua 133gr. Desde 6 unidades'\n",
    "get_performance(s1, s2)"
   ]
  },
  {
   "cell_type": "code",
   "execution_count": 54,
   "id": "5a03ac80-7c38-491b-8ac1-307e4caa9171",
   "metadata": {},
   "outputs": [
    {
     "name": "stdout",
     "output_type": "stream",
     "text": [
      "lalalalalalalala\u0003leche entera 1lt 12pz\n",
      "leche entera lalalalalalalala\u00031lt 12pz\n",
      "\n",
      "lvd_conf: 1.0, jac_conf: 1.0, comb_conf: 1.0\n"
     ]
    },
    {
     "data": {
      "text/plain": [
       "['1lt', '12pz']"
      ]
     },
     "metadata": {},
     "output_type": "display_data"
    },
    {
     "data": {
      "text/plain": [
       "['1lt', '12pz']"
      ]
     },
     "metadata": {},
     "output_type": "display_data"
    },
    {
     "name": "stdout",
     "output_type": "stream",
     "text": [
      "\n"
     ]
    }
   ],
   "source": [
    "## Extract units\n",
    "s1 = 'LALA LECHE ENTERA 1L - 12 PZS'\n",
    "s2 = 'Leche Entera Lala 1L Desde 12 UNID'\n",
    "get_performance(s1, s2)"
   ]
  },
  {
   "cell_type": "code",
   "execution_count": 55,
   "id": "3d3b2ba4-5c8e-4ec3-bbe5-da8ef01898e6",
   "metadata": {},
   "outputs": [
    {
     "name": "stdout",
     "output_type": "stream",
     "text": [
      "lalalalalalalala\u0003leche entera 1lt 12pz\n",
      "leche entera lalalalalalalala\u00031lt 12pz\n",
      "\n",
      "lvd_conf: 1.0, jac_conf: 1.0, comb_conf: 1.0\n"
     ]
    },
    {
     "data": {
      "text/plain": [
       "['1lt', '12pz']"
      ]
     },
     "metadata": {},
     "output_type": "display_data"
    },
    {
     "data": {
      "text/plain": [
       "['1lt', '12pz']"
      ]
     },
     "metadata": {},
     "output_type": "display_data"
    },
    {
     "name": "stdout",
     "output_type": "stream",
     "text": [
      "\n"
     ]
    }
   ],
   "source": [
    "## Extract units\n",
    "s1 = 'LALA LECHE ENTERA 1L - 12 PZS'\n",
    "s2 = 'Leche Entera Lala 1L Desde 12 UNID'\n",
    "get_performance(s1, s2)"
   ]
  },
  {
   "cell_type": "code",
   "execution_count": 56,
   "id": "127f5889-d21b-4d53-a06b-3efa00ead219",
   "metadata": {},
   "outputs": [
    {
     "name": "stdout",
     "output_type": "stream",
     "text": [
      "azucar zulka 1kg 10pz\n",
      "azucar mor esd zulka 1kg 10pz\n",
      "\n",
      "lvd_conf: 0.75, jac_conf: 1.0, comb_conf: 0.71\n"
     ]
    },
    {
     "data": {
      "text/plain": [
       "['1kg', '10pz']"
      ]
     },
     "metadata": {},
     "output_type": "display_data"
    },
    {
     "data": {
      "text/plain": [
       "['1kg', '10pz']"
      ]
     },
     "metadata": {},
     "output_type": "display_data"
    },
    {
     "name": "stdout",
     "output_type": "stream",
     "text": [
      "\n"
     ]
    }
   ],
   "source": [
    "## Extract units\n",
    "s1 = 'AZUCAR ZULKA 1KG - 10 PZS'\n",
    "s2 = 'Azucar mor estandar Zulka 1kg Desde 10 unidades'\n",
    "get_performance(s1, s2)"
   ]
  },
  {
   "cell_type": "code",
   "execution_count": 57,
   "id": "04f9325a-a594-45ab-b9a8-b0f6edc6a7ba",
   "metadata": {},
   "outputs": [
    {
     "name": "stdout",
     "output_type": "stream",
     "text": [
      "sopa maruchan 64g camaron piquin 12pz\n",
      "sopa maruchan 64g camaron piquin 12pz\n",
      "\n",
      "lvd_conf: 1.0, jac_conf: 1.0, comb_conf: 1.0\n"
     ]
    },
    {
     "data": {
      "text/plain": [
       "['64g', '12pz']"
      ]
     },
     "metadata": {},
     "output_type": "display_data"
    },
    {
     "data": {
      "text/plain": [
       "['64g', '12pz']"
      ]
     },
     "metadata": {},
     "output_type": "display_data"
    },
    {
     "name": "stdout",
     "output_type": "stream",
     "text": [
      "\n"
     ]
    }
   ],
   "source": [
    "## Extract units\n",
    "s1 = 'SOPA MARUCHAN CAMARON Y PIQUIN - 12 PZS'\n",
    "s2 = 'Maruchan - Camaron y Chile Piquin 64 g - caja con 12 unidades - Maruchan Mexico'\n",
    "get_performance(s1, s2)"
   ]
  },
  {
   "cell_type": "code",
   "execution_count": 58,
   "id": "de85b786-99e3-469f-b3e8-cee0cb43899c",
   "metadata": {},
   "outputs": [
    {
     "name": "stdout",
     "output_type": "stream",
     "text": [
      "sopa maruchan 64g re 12pz\n",
      "sopa carne re 64g 12pz maruchan\n",
      "\n",
      "lvd_conf: 0.85, jac_conf: 1.0, comb_conf: 0.84\n"
     ]
    },
    {
     "data": {
      "text/plain": [
       "['64g', '12pz']"
      ]
     },
     "metadata": {},
     "output_type": "display_data"
    },
    {
     "data": {
      "text/plain": [
       "['64g', '12pz']"
      ]
     },
     "metadata": {},
     "output_type": "display_data"
    },
    {
     "name": "stdout",
     "output_type": "stream",
     "text": [
      "\n"
     ]
    }
   ],
   "source": [
    "## Extract units\n",
    "s1 = 'SOPA MARUCHAN RES - 12 PZS'\n",
    "s2 = 'Sopa Instantanea Sabor Carne de Res 64 g - caja con 12 unidades - Maruchan Mexico'\n",
    "get_performance(s1, s2)"
   ]
  },
  {
   "cell_type": "code",
   "execution_count": 59,
   "id": "8b4d41fe-4a99-463d-a4f2-dc58f8f5c95e",
   "metadata": {},
   "outputs": [
    {
     "name": "stdout",
     "output_type": "stream",
     "text": [
      "atun dolore agua 100g 6pz\n",
      "atun dolore agua 100g 24pz\n",
      "\n",
      "lvd_conf: 1.0, jac_conf: 0.33, comb_conf: 0.88\n"
     ]
    },
    {
     "data": {
      "text/plain": [
       "['100g', '6pz']"
      ]
     },
     "metadata": {},
     "output_type": "display_data"
    },
    {
     "data": {
      "text/plain": [
       "['100g', '24pz']"
      ]
     },
     "metadata": {},
     "output_type": "display_data"
    },
    {
     "name": "stdout",
     "output_type": "stream",
     "text": [
      "\n"
     ]
    }
   ],
   "source": [
    "## Extract units\n",
    "s1 = 'ATUN DOLORES EN AGUA 133 GR - 6 PZS'\n",
    "s2 = 'Atun Dolores en Agua de 133 g - 24 piezas - Dolores'\n",
    "get_performance(s1, s2)"
   ]
  },
  {
   "cell_type": "code",
   "execution_count": 60,
   "id": "fb384047-19c6-4107-a6ee-5ec6f08f7646",
   "metadata": {},
   "outputs": [
    {
     "name": "stdout",
     "output_type": "stream",
     "text": [
      "sauza hornito teq rep 1lt\n",
      "teq sauza hornito rep 1lt presentacin 1 art=culo\n",
      "\n",
      "lvd_conf: 0.67, jac_conf: 1.0, comb_conf: 0.6\n"
     ]
    },
    {
     "data": {
      "text/plain": [
       "['1lt']"
      ]
     },
     "metadata": {},
     "output_type": "display_data"
    },
    {
     "data": {
      "text/plain": [
       "['1lt']"
      ]
     },
     "metadata": {},
     "output_type": "display_data"
    },
    {
     "name": "stdout",
     "output_type": "stream",
     "text": [
      "\n"
     ]
    }
   ],
   "source": [
    "## Extract units\n",
    "s1 = 'SAUZA HORNITOS TEQUILA REPOSADO 1L-1PZ'\n",
    "s2 = 'Tequila Sauza Hornitos Reposado 1 L Presentaci√≥n: Botella - 1 art√≠culo(s).'\n",
    "get_performance(s1, s2)"
   ]
  },
  {
   "cell_type": "code",
   "execution_count": 61,
   "id": "a862402e-625e-4eb8-8636-5e1efac1f407",
   "metadata": {},
   "outputs": [
    {
     "name": "stdout",
     "output_type": "stream",
     "text": [
      "cana mezcalitomezcalitomezcalito\u0003400ml 24pz\n",
      "mezcalitomezcalitomezcalito\u0003400ml 24pz\n",
      "\n",
      "lvd_conf: 0.92, jac_conf: 1.0, comb_conf: 0.91\n"
     ]
    },
    {
     "data": {
      "text/plain": [
       "['400ml', '24pz']"
      ]
     },
     "metadata": {},
     "output_type": "display_data"
    },
    {
     "data": {
      "text/plain": [
       "['400ml', '24pz']"
      ]
     },
     "metadata": {},
     "output_type": "display_data"
    },
    {
     "name": "stdout",
     "output_type": "stream",
     "text": [
      "\n"
     ]
    }
   ],
   "source": [
    "## Extract units\n",
    "s1 = 'LICOR DE CANA EL MEZCALITO 440 ML 24 PIEZA'\n",
    "s2 = 'Licor de Agave El Mezcalito 440 ml Presentacion: Caja - 24 articulo(s).'\n",
    "get_performance(s1, s2)"
   ]
  },
  {
   "cell_type": "code",
   "execution_count": 62,
   "id": "8b38c0d6-27e1-447f-891e-2076114e1384",
   "metadata": {},
   "outputs": [
    {
     "name": "stdout",
     "output_type": "stream",
     "text": [
      "grancentenariograncentenariograncentenario\u0003teq plata 700ml\n",
      "2pz teq grancentenariograncentenariograncentenario\u0003plata 700ml\n",
      "\n",
      "lvd_conf: 1.0, jac_conf: 0.5, comb_conf: 0.91\n"
     ]
    },
    {
     "data": {
      "text/plain": [
       "['700ml']"
      ]
     },
     "metadata": {},
     "output_type": "display_data"
    },
    {
     "data": {
      "text/plain": [
       "['2pz', '700ml']"
      ]
     },
     "metadata": {},
     "output_type": "display_data"
    },
    {
     "name": "stdout",
     "output_type": "stream",
     "text": [
      "\n"
     ]
    }
   ],
   "source": [
    "## Extract units\n",
    "s1 = 'GRAN CENTENARIO TEQUILA PLATA 700ML-1PZ'\n",
    "s2 = 'Pack de 2 Tequila Gran Centenario Plata 700 ml Gran Centenario Plata'\n",
    "get_performance(s1, s2)"
   ]
  },
  {
   "cell_type": "code",
   "execution_count": 63,
   "id": "6a4b4e8d-f439-43c9-b6d7-930b75a6dc4e",
   "metadata": {},
   "outputs": [
    {
     "name": "stdout",
     "output_type": "stream",
     "text": [
      "jack daniels whisky 700ml\n",
      "4pz whisky jack daniels 700ml\n",
      "\n",
      "lvd_conf: 1.0, jac_conf: 0.5, comb_conf: 0.91\n"
     ]
    },
    {
     "data": {
      "text/plain": [
       "['700ml']"
      ]
     },
     "metadata": {},
     "output_type": "display_data"
    },
    {
     "data": {
      "text/plain": [
       "['4pz', '700ml']"
      ]
     },
     "metadata": {},
     "output_type": "display_data"
    },
    {
     "name": "stdout",
     "output_type": "stream",
     "text": [
      "\n"
     ]
    }
   ],
   "source": [
    "## Extract units\n",
    "s1 = 'JACK DANIELS WHISKY 700ML-1PZ'\n",
    "s2 = 'Pack de 4 Whisky Jack Daniels 700 ml Jack Daniels 700 ml'\n",
    "get_performance(s1, s2)"
   ]
  },
  {
   "cell_type": "code",
   "execution_count": 64,
   "id": "2533e947-89e3-402e-922b-11051c3469ae",
   "metadata": {},
   "outputs": [
    {
     "name": "stdout",
     "output_type": "stream",
     "text": [
      "chiva regal whisky 12ano 700ml\n",
      "whisky chiva regal 12ano 700ml\n",
      "\n",
      "lvd_conf: 1.0, jac_conf: 1.0, comb_conf: 1.0\n"
     ]
    },
    {
     "data": {
      "text/plain": [
       "['700ml']"
      ]
     },
     "metadata": {},
     "output_type": "display_data"
    },
    {
     "data": {
      "text/plain": [
       "['700ml']"
      ]
     },
     "metadata": {},
     "output_type": "display_data"
    },
    {
     "name": "stdout",
     "output_type": "stream",
     "text": [
      "\n"
     ]
    }
   ],
   "source": [
    "## Extract units\n",
    "s1 = 'CHIVAS REGAL WHISKY 12 ANOS 750ML-1PZ'\n",
    "s2 = 'Whisky Chivas Regal 12 anos 750ml CHIVAS REGAL Botella 750ml'\n",
    "get_performance(s1, s2)"
   ]
  },
  {
   "cell_type": "code",
   "execution_count": 65,
   "id": "6aa2af54-7ded-4095-bc27-612d7283f63c",
   "metadata": {},
   "outputs": [
    {
     "name": "stdout",
     "output_type": "stream",
     "text": [
      "presidente clasico bry 900ml\n",
      "3pz bry presidente clasico 900ml\n",
      "\n",
      "lvd_conf: 1.0, jac_conf: 0.5, comb_conf: 0.91\n"
     ]
    },
    {
     "data": {
      "text/plain": [
       "['900ml']"
      ]
     },
     "metadata": {},
     "output_type": "display_data"
    },
    {
     "data": {
      "text/plain": [
       "['3pz', '900ml']"
      ]
     },
     "metadata": {},
     "output_type": "display_data"
    },
    {
     "name": "stdout",
     "output_type": "stream",
     "text": [
      "\n"
     ]
    }
   ],
   "source": [
    "## Extract units\n",
    "s1 = 'PRESIDENTE CLASICO BRANDY 900ML - 1PZA'\n",
    "s2 = 'Paquete de 3 Brandy Presidente Clasico 900 ml Presidente Paquete de 3'\n",
    "get_performance(s1, s2)"
   ]
  },
  {
   "cell_type": "code",
   "execution_count": 66,
   "id": "88e63152-4a41-45b9-8abc-63817debcb64",
   "metadata": {},
   "outputs": [
    {
     "name": "stdout",
     "output_type": "stream",
     "text": [
      "cuervocuervocuervocuervo\u0003teq trad 900ml\n",
      "3pz teq cuervocuervocuervocuervo\u0003trad 900ml\n",
      "\n",
      "lvd_conf: 1.0, jac_conf: 0.5, comb_conf: 0.91\n"
     ]
    },
    {
     "data": {
      "text/plain": [
       "['900ml']"
      ]
     },
     "metadata": {},
     "output_type": "display_data"
    },
    {
     "data": {
      "text/plain": [
       "['3pz', '900ml']"
      ]
     },
     "metadata": {},
     "output_type": "display_data"
    },
    {
     "name": "stdout",
     "output_type": "stream",
     "text": [
      "\n"
     ]
    }
   ],
   "source": [
    "## Extract units\n",
    "s1 = 'JOSE CUERVO TEQUILA TRAD 950 ML - 1 PZ'\n",
    "s2 = 'Paquete de 3 Tequila Jose Cuervo Tradicional 950 ml Jose Cuervo Tradicional'\n",
    "get_performance(s1, s2)"
   ]
  },
  {
   "cell_type": "code",
   "execution_count": 67,
   "id": "65009190-c147-42b9-83c1-dccd8d1fb0ac",
   "metadata": {},
   "outputs": [
    {
     "name": "stdout",
     "output_type": "stream",
     "text": [
      "donjuliodonjuliodonjulio\u0003teq rep 700ml\n",
      "teq donjuliodonjuliodonjulio\u0003rep ed esp 700ml\n",
      "\n",
      "lvd_conf: 0.9, jac_conf: 1.0, comb_conf: 0.9\n"
     ]
    },
    {
     "data": {
      "text/plain": [
       "['700ml']"
      ]
     },
     "metadata": {},
     "output_type": "display_data"
    },
    {
     "data": {
      "text/plain": [
       "['700ml']"
      ]
     },
     "metadata": {},
     "output_type": "display_data"
    },
    {
     "name": "stdout",
     "output_type": "stream",
     "text": [
      "\n"
     ]
    }
   ],
   "source": [
    "## Extract units\n",
    "s1 = 'DON JULIO TEQUILA REPOSADO 700 ML - 1PZ'\n",
    "s2 = 'Tequila Don Julio Reposado Edicion Especial 700 ml Don Julio Reposado Edicion Especial'\n",
    "get_performance(s1, s2)"
   ]
  },
  {
   "cell_type": "code",
   "execution_count": 68,
   "id": "b264ac0a-67f2-4eb6-b3b9-052678ba194d",
   "metadata": {},
   "outputs": [
    {
     "name": "stdout",
     "output_type": "stream",
     "text": [
      "cerveza allende gold 300ml 24pz\n",
      "heineken cerveza 300ml 24pz\n",
      "\n",
      "lvd_conf: 0.46, jac_conf: 1.0, comb_conf: 0.3\n"
     ]
    },
    {
     "data": {
      "text/plain": [
       "['300ml', '24pz']"
      ]
     },
     "metadata": {},
     "output_type": "display_data"
    },
    {
     "data": {
      "text/plain": [
       "['300ml', '24pz']"
      ]
     },
     "metadata": {},
     "output_type": "display_data"
    },
    {
     "name": "stdout",
     "output_type": "stream",
     "text": [
      "\n"
     ]
    }
   ],
   "source": [
    "## Extract units\n",
    "s1 = 'CERVEZA ALLENDE GOLDEN 355 ML - 24 PZS'\n",
    "s2 = 'Heineken Cerveza Botella 355 Ml 24 Pieza(s)'\n",
    "get_performance(s1, s2)"
   ]
  },
  {
   "cell_type": "code",
   "execution_count": 69,
   "id": "675df864-09df-4f33-8da0-523e6f48a812",
   "metadata": {},
   "outputs": [
    {
     "name": "stdout",
     "output_type": "stream",
     "text": [
      "jack daniels ginger 300ml 24pz\n",
      "jack daniels ginger 300ml 24pz\n",
      "\n",
      "lvd_conf: 1.0, jac_conf: 1.0, comb_conf: 1.0\n"
     ]
    },
    {
     "data": {
      "text/plain": [
       "['300ml', '24pz']"
      ]
     },
     "metadata": {},
     "output_type": "display_data"
    },
    {
     "data": {
      "text/plain": [
       "['300ml', '24pz']"
      ]
     },
     "metadata": {},
     "output_type": "display_data"
    },
    {
     "name": "stdout",
     "output_type": "stream",
     "text": [
      "\n"
     ]
    }
   ],
   "source": [
    "## Extract units\n",
    "s1 = 'JACK DANIELS GINGER 355ML - 24PZS'\n",
    "s2 = 'Jack Daniels Ginger 350 ml 24 Pieza(s)'\n",
    "get_performance(s1, s2)"
   ]
  },
  {
   "cell_type": "code",
   "execution_count": 70,
   "id": "ca679615-4843-49f5-b80a-7aad55648398",
   "metadata": {},
   "outputs": [
    {
     "name": "stdout",
     "output_type": "stream",
     "text": [
      "vina real durazno 2lt 6pz\n",
      "vina real durazno 2lt 6pz\n",
      "\n",
      "lvd_conf: 1.0, jac_conf: 1.0, comb_conf: 1.0\n"
     ]
    },
    {
     "data": {
      "text/plain": [
       "['2lt', '6pz']"
      ]
     },
     "metadata": {},
     "output_type": "display_data"
    },
    {
     "data": {
      "text/plain": [
       "['2lt', '6pz']"
      ]
     },
     "metadata": {},
     "output_type": "display_data"
    },
    {
     "name": "stdout",
     "output_type": "stream",
     "text": [
      "\n"
     ]
    }
   ],
   "source": [
    "## Extract units\n",
    "s1 = 'VINA REAL DURAZNO PET 2L - 6 PZS'\n",
    "s2 = 'Bebida Alcoholica Vina Real Durazno Botella 2 Litros 6 Pieza(s)'\n",
    "get_performance(s1, s2)"
   ]
  },
  {
   "cell_type": "code",
   "execution_count": 71,
   "id": "a011aec8-1a0f-44d7-b1b0-3c747ca5bbfc",
   "metadata": {},
   "outputs": [
    {
     "name": "stdout",
     "output_type": "stream",
     "text": [
      "donpedro reserva esp 200ml\n",
      "donpedro gran reserva 200ml\n",
      "\n",
      "lvd_conf: 0.84, jac_conf: 1.0, comb_conf: 0.82\n"
     ]
    },
    {
     "data": {
      "text/plain": [
       "['200ml']"
      ]
     },
     "metadata": {},
     "output_type": "display_data"
    },
    {
     "data": {
      "text/plain": [
       "['200ml']"
      ]
     },
     "metadata": {},
     "output_type": "display_data"
    },
    {
     "name": "stdout",
     "output_type": "stream",
     "text": [
      "\n"
     ]
    }
   ],
   "source": [
    "## Extract units\n",
    "s1 = 'DON PEDRO RESERVA ESPECIAL 200ML - 1PZ'\n",
    "s2 = 'Brandy Don Pedro Gran Reserva 200 Mililitros Pieza'\n",
    "get_performance(s1, s2)"
   ]
  },
  {
   "cell_type": "code",
   "execution_count": 72,
   "id": "fd098a57-a4f5-49d5-a59c-fd3db5363c12",
   "metadata": {},
   "outputs": [
    {
     "name": "stdout",
     "output_type": "stream",
     "text": [
      "cabritocabritocabrito\u0003teq rep 900ml 200ml\n",
      "teq cabritocabritocabrito\u0003rep 900ml\n",
      "\n",
      "lvd_conf: 1.0, jac_conf: 0.5, comb_conf: 0.91\n"
     ]
    },
    {
     "data": {
      "text/plain": [
       "['900ml', '200ml']"
      ]
     },
     "metadata": {},
     "output_type": "display_data"
    },
    {
     "data": {
      "text/plain": [
       "['900ml']"
      ]
     },
     "metadata": {},
     "output_type": "display_data"
    },
    {
     "name": "stdout",
     "output_type": "stream",
     "text": [
      "\n"
     ]
    }
   ],
   "source": [
    "## Extract units\n",
    "s1 = 'CABRITO TEQ REPOSADO 950 +250 ML - 1 PZ'\n",
    "s2 = 'Tequila Cabrito Reposado 950 Mililitros Pieza'\n",
    "get_performance(s1, s2)"
   ]
  },
  {
   "cell_type": "code",
   "execution_count": 73,
   "id": "fea42e30-8f7a-4b66-a5d1-e1ed729db79c",
   "metadata": {},
   "outputs": [
    {
     "name": "stdout",
     "output_type": "stream",
     "text": [
      "marlboro red 14pz 10pz\n",
      "marlboro red 10pz 14pz\n",
      "\n",
      "lvd_conf: 1.0, jac_conf: 1.0, comb_conf: 1.0\n"
     ]
    },
    {
     "data": {
      "text/plain": [
       "['14pz', '10pz']"
      ]
     },
     "metadata": {},
     "output_type": "display_data"
    },
    {
     "data": {
      "text/plain": [
       "['10pz', '14pz']"
      ]
     },
     "metadata": {},
     "output_type": "display_data"
    },
    {
     "name": "stdout",
     "output_type": "stream",
     "text": [
      "\n"
     ]
    }
   ],
   "source": [
    "## Extract units\n",
    "s1 = 'MARLBORO ROJO 14 UND - 10 PZS'\n",
    "s2 = 'Marlboro Cigarro Rojo 10 Cajetillas Con 14 pz Pieza'\n",
    "get_performance(s1, s2)"
   ]
  },
  {
   "cell_type": "code",
   "execution_count": 74,
   "id": "5ca06eeb-8847-4a51-bfc4-794112d3b44c",
   "metadata": {},
   "outputs": [
    {
     "name": "stdout",
     "output_type": "stream",
     "text": [
      "marlboro red 20pz 10pz\n",
      "marlboro red 10pz 20pz\n",
      "\n",
      "lvd_conf: 1.0, jac_conf: 1.0, comb_conf: 1.0\n"
     ]
    },
    {
     "data": {
      "text/plain": [
       "['20pz', '10pz']"
      ]
     },
     "metadata": {},
     "output_type": "display_data"
    },
    {
     "data": {
      "text/plain": [
       "['10pz', '20pz']"
      ]
     },
     "metadata": {},
     "output_type": "display_data"
    },
    {
     "name": "stdout",
     "output_type": "stream",
     "text": [
      "\n"
     ]
    }
   ],
   "source": [
    "## Extract units\n",
    "s1 = 'MARLBORO ROJO 20UND - 10PZS'\n",
    "s2 = 'Marlboro Cigarro Rojo Paquete Con 10 Cajetillas de 20 Pz Pieza'\n",
    "get_performance(s1, s2)"
   ]
  },
  {
   "cell_type": "code",
   "execution_count": 75,
   "id": "8960cf94-6f54-4d30-9cca-1d70be405fc2",
   "metadata": {},
   "outputs": [
    {
     "name": "stdout",
     "output_type": "stream",
     "text": [
      "johnnie walker red 200ml\n",
      "whisky johnnie walker red 200ml\n",
      "\n",
      "lvd_conf: 0.85, jac_conf: 1.0, comb_conf: 0.83\n"
     ]
    },
    {
     "data": {
      "text/plain": [
       "['200ml']"
      ]
     },
     "metadata": {},
     "output_type": "display_data"
    },
    {
     "data": {
      "text/plain": [
       "['200ml']"
      ]
     },
     "metadata": {},
     "output_type": "display_data"
    },
    {
     "name": "stdout",
     "output_type": "stream",
     "text": [
      "\n"
     ]
    }
   ],
   "source": [
    "## Extract units\n",
    "s1 = 'JOHNNIE WALKER RED LABEL 200 ML - 1 PZA'\n",
    "s2 = 'WHISKY JOHNNIE WALKER RED POCKET 200 ML / BOTELLA'\n",
    "get_performance(s1, s2)"
   ]
  },
  {
   "cell_type": "code",
   "execution_count": 76,
   "id": "b5745546-b844-45b4-98f2-c9fb54464d45",
   "metadata": {},
   "outputs": [
    {
     "name": "stdout",
     "output_type": "stream",
     "text": [
      "whisky black & white 700ml\n",
      "whisky black & white 700ml\n",
      "\n",
      "lvd_conf: 1.0, jac_conf: 1.0, comb_conf: 1.0\n"
     ]
    },
    {
     "data": {
      "text/plain": [
       "['700ml']"
      ]
     },
     "metadata": {},
     "output_type": "display_data"
    },
    {
     "data": {
      "text/plain": [
       "['700ml']"
      ]
     },
     "metadata": {},
     "output_type": "display_data"
    },
    {
     "name": "stdout",
     "output_type": "stream",
     "text": [
      "\n"
     ]
    }
   ],
   "source": [
    "## Extract units\n",
    "s1 = 'WHISKY BLACK & WHITE 700ML - 1 PZ'\n",
    "s2 = 'WHISKY BLACK AND WHITE 700 ML / BOTELLA'\n",
    "get_performance(s1, s2)"
   ]
  },
  {
   "cell_type": "code",
   "execution_count": 77,
   "id": "82079218-2f8b-4c37-9398-240282461044",
   "metadata": {},
   "outputs": [
    {
     "name": "stdout",
     "output_type": "stream",
     "text": [
      "nutrileche lch 1lt 12pz\n",
      "leche nutrileche 1lt 12pz\n",
      "\n",
      "lvd_conf: 0.94, jac_conf: 1.0, comb_conf: 0.93\n"
     ]
    },
    {
     "data": {
      "text/plain": [
       "['1lt', '12pz']"
      ]
     },
     "metadata": {},
     "output_type": "display_data"
    },
    {
     "data": {
      "text/plain": [
       "['1lt', '12pz']"
      ]
     },
     "metadata": {},
     "output_type": "display_data"
    },
    {
     "name": "stdout",
     "output_type": "stream",
     "text": [
      "\n"
     ]
    }
   ],
   "source": [
    "## Extract units\n",
    "s1 = 'NUTRILECHE PRODUCTO LACTEO 1L -12PZS'\n",
    "s2 = 'lECHE NUTRILECHE 1 LT / TETRA PACK 12 piezas'\n",
    "get_performance(s1, s2)"
   ]
  },
  {
   "cell_type": "code",
   "execution_count": 78,
   "id": "16f42447-3209-49bb-a776-f9bdc432dfa0",
   "metadata": {},
   "outputs": [
    {
     "name": "stdout",
     "output_type": "stream",
     "text": [
      "marlboro gold 20pz 10pz\n",
      "marlboro gold fsh 20pz 10pz\n",
      "\n",
      "lvd_conf: 0.87, jac_conf: 1.0, comb_conf: 0.86\n"
     ]
    },
    {
     "data": {
      "text/plain": [
       "['20pz', '10pz']"
      ]
     },
     "metadata": {},
     "output_type": "display_data"
    },
    {
     "data": {
      "text/plain": [
       "['20pz', '10pz']"
      ]
     },
     "metadata": {},
     "output_type": "display_data"
    },
    {
     "name": "stdout",
     "output_type": "stream",
     "text": [
      "\n"
     ]
    }
   ],
   "source": [
    "## Extract units\n",
    "s1 = 'MARLBORO GOLD 20UND - 10PZS'\n",
    "s2 = 'CIGARROS MARLBORO GOLDEN FRESH 20 CIG. 10PACK / DISPLAY'\n",
    "get_performance(s1, s2)"
   ]
  },
  {
   "cell_type": "code",
   "execution_count": 79,
   "id": "636420b7-e94d-4274-976a-a1080def6c16",
   "metadata": {},
   "outputs": [
    {
     "name": "stdout",
     "output_type": "stream",
     "text": [
      "electrolit fresa 600ml 12pz\n",
      "electrolit fresa 600ml 12pz\n",
      "\n",
      "lvd_conf: 1.0, jac_conf: 1.0, comb_conf: 1.0\n"
     ]
    },
    {
     "data": {
      "text/plain": [
       "['600ml', '12pz']"
      ]
     },
     "metadata": {},
     "output_type": "display_data"
    },
    {
     "data": {
      "text/plain": [
       "['600ml', '12pz']"
      ]
     },
     "metadata": {},
     "output_type": "display_data"
    },
    {
     "name": "stdout",
     "output_type": "stream",
     "text": [
      "\n"
     ]
    }
   ],
   "source": [
    "## Extract units\n",
    "s1 = 'ELECTROLIT fresa 625ML - 12PZ'\n",
    "s2 = 'electrolit fresa 625 ml 12pz'\n",
    "get_performance(s1, s2)"
   ]
  },
  {
   "cell_type": "code",
   "execution_count": 80,
   "id": "03d1a8fd-5bae-49b1-8907-3358f72eb621",
   "metadata": {},
   "outputs": [
    {
     "name": "stdout",
     "output_type": "stream",
     "text": [
      "marlboro red 20pz 10pz\n",
      "marlboro red 100s 20pz 10pz\n",
      "\n",
      "lvd_conf: 0.83, jac_conf: 1.0, comb_conf: 0.82\n"
     ]
    },
    {
     "data": {
      "text/plain": [
       "['20pz', '10pz']"
      ]
     },
     "metadata": {},
     "output_type": "display_data"
    },
    {
     "data": {
      "text/plain": [
       "['20pz', '10pz']"
      ]
     },
     "metadata": {},
     "output_type": "display_data"
    },
    {
     "name": "stdout",
     "output_type": "stream",
     "text": [
      "\n"
     ]
    }
   ],
   "source": [
    "## Extract units\n",
    "s1 = 'MARLBORO ROJO 20UND - 10PZS'\n",
    "s2 = \"CIGARROS MARLBORO ROJO 100'S 20 CIG. 10PACK / DISPLAY\"\n",
    "get_performance(s1, s2)"
   ]
  },
  {
   "cell_type": "code",
   "execution_count": 81,
   "id": "5139092f-06e7-4899-9c5e-d9caea85986e",
   "metadata": {},
   "outputs": [
    {
     "name": "stdout",
     "output_type": "stream",
     "text": [
      "aztecaoro 700ml\n",
      "aztecaoro 700ml\n",
      "\n",
      "lvd_conf: 1.0, jac_conf: 1.0, comb_conf: 1.0\n"
     ]
    },
    {
     "data": {
      "text/plain": [
       "['700ml']"
      ]
     },
     "metadata": {},
     "output_type": "display_data"
    },
    {
     "data": {
      "text/plain": [
       "['700ml']"
      ]
     },
     "metadata": {},
     "output_type": "display_data"
    },
    {
     "name": "stdout",
     "output_type": "stream",
     "text": [
      "\n"
     ]
    }
   ],
   "source": [
    "s1 = 'AZTECA DE ORO 700 ML 1 PZA'\n",
    "s2 = \"bry AZTECA DE ORO 700 ML\"\n",
    "get_performance(s1, s2)"
   ]
  },
  {
   "cell_type": "code",
   "execution_count": 82,
   "id": "874c3bd8-1d7d-4efd-aba2-457b3009497f",
   "metadata": {},
   "outputs": [
    {
     "name": "stdout",
     "output_type": "stream",
     "text": [
      "william lawsons whisky 700ml\n",
      "whisky williams lawsons 700ml\n",
      "\n",
      "lvd_conf: 0.98, jac_conf: 1.0, comb_conf: 0.98\n"
     ]
    },
    {
     "data": {
      "text/plain": [
       "['700ml']"
      ]
     },
     "metadata": {},
     "output_type": "display_data"
    },
    {
     "data": {
      "text/plain": [
       "['700ml']"
      ]
     },
     "metadata": {},
     "output_type": "display_data"
    },
    {
     "name": "stdout",
     "output_type": "stream",
     "text": [
      "\n"
     ]
    }
   ],
   "source": [
    "s1 = 'WILLIAM LAWSONS WHISKY 700 ML - 1PZ'\n",
    "s2 = \"WHISKY WILLIAMS LAWSONS .700\"\n",
    "get_performance(s1, s2)"
   ]
  },
  {
   "cell_type": "code",
   "execution_count": 83,
   "id": "09f690fa-fc45-41d7-a264-d215db204901",
   "metadata": {},
   "outputs": [
    {
     "name": "stdout",
     "output_type": "stream",
     "text": [
      "cuervocuervocuervocuervo\u0003teq trad 900ml\n",
      "teq rep100 cuervocuervocuervocuervo\u0003trad 900ml\n",
      "\n",
      "lvd_conf: 0.9, jac_conf: 1.0, comb_conf: 0.89\n"
     ]
    },
    {
     "data": {
      "text/plain": [
       "['900ml']"
      ]
     },
     "metadata": {},
     "output_type": "display_data"
    },
    {
     "data": {
      "text/plain": [
       "['900ml']"
      ]
     },
     "metadata": {},
     "output_type": "display_data"
    },
    {
     "name": "stdout",
     "output_type": "stream",
     "text": [
      "\n"
     ]
    }
   ],
   "source": [
    "s1 = 'JOSE CUERVO TEQUILA TRAD 950 ML - 1 PZ'\n",
    "s2 = \"TEQUILA REP.100% CUERVO TRADICIONAL .950\"\n",
    "get_performance(s1, s2)"
   ]
  },
  {
   "cell_type": "code",
   "execution_count": 84,
   "id": "0c948d53-0a12-4baf-827a-e54895a17490",
   "metadata": {},
   "outputs": [
    {
     "name": "stdout",
     "output_type": "stream",
     "text": [
      "whisky passport 700ml\n",
      "whisky passport scotch 700ml\n",
      "\n",
      "lvd_conf: 0.82, jac_conf: 1.0, comb_conf: 0.8\n"
     ]
    },
    {
     "data": {
      "text/plain": [
       "['700ml']"
      ]
     },
     "metadata": {},
     "output_type": "display_data"
    },
    {
     "data": {
      "text/plain": [
       "['700ml']"
      ]
     },
     "metadata": {},
     "output_type": "display_data"
    },
    {
     "name": "stdout",
     "output_type": "stream",
     "text": [
      "\n"
     ]
    }
   ],
   "source": [
    "s1 = 'WHISKY PASSPORT 700ML - 1 PZ'\n",
    "s2 = \"Whisky Passport Scotch - 700 ml\"\n",
    "get_performance(s1, s2)"
   ]
  },
  {
   "cell_type": "code",
   "execution_count": 85,
   "id": "97c0a160-3e97-4a7e-8792-e8c5e6d768a4",
   "metadata": {},
   "outputs": [
    {
     "name": "stdout",
     "output_type": "stream",
     "text": [
      "johnne walker whisky black 700ml\n",
      "whisky johnnie walker black 700ml\n",
      "\n",
      "lvd_conf: 0.98, jac_conf: 1.0, comb_conf: 0.98\n"
     ]
    },
    {
     "data": {
      "text/plain": [
       "['700ml']"
      ]
     },
     "metadata": {},
     "output_type": "display_data"
    },
    {
     "data": {
      "text/plain": [
       "['700ml']"
      ]
     },
     "metadata": {},
     "output_type": "display_data"
    },
    {
     "name": "stdout",
     "output_type": "stream",
     "text": [
      "\n"
     ]
    }
   ],
   "source": [
    "s1 = 'JOHNNE WALKER WHISKY E NEGRA 750ML - 1PZ'\n",
    "s2 = \"Whisky Johnnie Walker Black Label - 750 ml\"\n",
    "get_performance(s1, s2)"
   ]
  },
  {
   "cell_type": "code",
   "execution_count": 86,
   "id": "b2a6a19f-ca80-4f0b-ab34-fda24d309c6f",
   "metadata": {},
   "outputs": [
    {
     "name": "stdout",
     "output_type": "stream",
     "text": [
      "aztecaoro 700ml\n",
      "aztecaoro 700ml\n",
      "\n",
      "lvd_conf: 1.0, jac_conf: 1.0, comb_conf: 1.0\n"
     ]
    },
    {
     "data": {
      "text/plain": [
       "['700ml']"
      ]
     },
     "metadata": {},
     "output_type": "display_data"
    },
    {
     "data": {
      "text/plain": [
       "['700ml']"
      ]
     },
     "metadata": {},
     "output_type": "display_data"
    },
    {
     "name": "stdout",
     "output_type": "stream",
     "text": [
      "\n"
     ]
    }
   ],
   "source": [
    "s1 = 'AZTECA DE ORO 700 ML 1 PZA'\n",
    "s2 = \"Brandy Azteca De Oro 700 Ml - Azteca De Oro - 1 pieza\"\n",
    "get_performance(s1, s2)"
   ]
  },
  {
   "cell_type": "code",
   "execution_count": 87,
   "id": "51f6bd56-442c-4236-988e-cd5f050a57e4",
   "metadata": {},
   "outputs": [
    {
     "name": "stdout",
     "output_type": "stream",
     "text": [
      "sauzahaciendasauzahaciendasauzahacienda teq rep 1lt\n",
      "teq sauzahaciendasauzahaciendasauzahacienda azul 1lt sauza\n",
      "\n",
      "lvd_conf: 0.87, jac_conf: 1.0, comb_conf: 0.86\n"
     ]
    },
    {
     "data": {
      "text/plain": [
       "['1lt']"
      ]
     },
     "metadata": {},
     "output_type": "display_data"
    },
    {
     "data": {
      "text/plain": [
       "['1lt']"
      ]
     },
     "metadata": {},
     "output_type": "display_data"
    },
    {
     "name": "stdout",
     "output_type": "stream",
     "text": [
      "\n"
     ]
    }
   ],
   "source": [
    "s1 = 'SAUZA HACIENDA TEQUILA REPOSADO 1L-1PZ'\n",
    "s2 = \"Tequila Sauza Hacienda Azul 1 Lt - Sauza - 1 pieza\"\n",
    "get_performance(s1, s2)"
   ]
  },
  {
   "cell_type": "code",
   "execution_count": 88,
   "id": "92226f1f-b401-429b-8800-dcc5ba0990e0",
   "metadata": {},
   "outputs": [
    {
     "name": "stdout",
     "output_type": "stream",
     "text": [
      "coca cola 300ml 12pz\n",
      "coca cola azucar 12pz 300ml\n",
      "\n",
      "lvd_conf: 0.72, jac_conf: 1.0, comb_conf: 0.68\n"
     ]
    },
    {
     "data": {
      "text/plain": [
       "['300ml', '12pz']"
      ]
     },
     "metadata": {},
     "output_type": "display_data"
    },
    {
     "data": {
      "text/plain": [
       "['12pz', '300ml']"
      ]
     },
     "metadata": {},
     "output_type": "display_data"
    },
    {
     "name": "stdout",
     "output_type": "stream",
     "text": [
      "\n"
     ]
    }
   ],
   "source": [
    "s1 = 'COCA COLA 355ML - 12PZS'\n",
    "s2 = \"Coca Cola sin azucar Paquete 12 unidades 355ML Paquete por 12 unidades\"\n",
    "get_performance(s1, s2)"
   ]
  },
  {
   "cell_type": "code",
   "execution_count": 225,
   "id": "b8e2eb1e-4e8a-47c0-9e4e-827a9f83fde3",
   "metadata": {},
   "outputs": [
    {
     "data": {
      "text/plain": [
       "'presidente cuba 300ml 12pz'"
      ]
     },
     "metadata": {},
     "output_type": "display_data"
    },
    {
     "data": {
      "text/plain": [
       "'sprite 12pz 300ml'"
      ]
     },
     "metadata": {},
     "output_type": "display_data"
    },
    {
     "name": "stdout",
     "output_type": "stream",
     "text": [
      "\n"
     ]
    },
    {
     "data": {
      "text/plain": [
       "0.54"
      ]
     },
     "metadata": {},
     "output_type": "display_data"
    },
    {
     "data": {
      "text/plain": [
       "1.0"
      ]
     },
     "metadata": {},
     "output_type": "display_data"
    },
    {
     "data": {
      "text/plain": [
       "0.48"
      ]
     },
     "metadata": {},
     "output_type": "display_data"
    },
    {
     "name": "stdout",
     "output_type": "stream",
     "text": [
      "\n"
     ]
    },
    {
     "data": {
      "text/plain": [
       "['300ml', '12pz']"
      ]
     },
     "metadata": {},
     "output_type": "display_data"
    },
    {
     "data": {
      "text/plain": [
       "['12pz', '300ml']"
      ]
     },
     "metadata": {},
     "output_type": "display_data"
    },
    {
     "name": "stdout",
     "output_type": "stream",
     "text": [
      "\n"
     ]
    }
   ],
   "source": [
    "s1 = 'PRESIDENTE CUBA LATA 355 ML - 12 PZS'\n",
    "s2 = \"Sprite - Paquete 12 unidades 355ML Paquete por 12 unidades\"\n",
    "get_performance(s1, s2)"
   ]
  },
  {
   "cell_type": "code",
   "execution_count": 311,
   "id": "2ce2ae8f-db52-4e63-9f37-6938c3cb4e9a",
   "metadata": {},
   "outputs": [
    {
     "data": {
      "text/plain": [
       "'presidente cuba'"
      ]
     },
     "execution_count": 311,
     "metadata": {},
     "output_type": "execute_result"
    }
   ],
   "source": [
    "re.sub(r'\\d+[ml|lt|pz|g|oz|kg]+(\\s|$)', '', 'presidente cuba 355ml 12pz 1pz').strip()"
   ]
  },
  {
   "cell_type": "code",
   "execution_count": null,
   "id": "672eaaaf-2813-4844-917d-750d6e3e02c6",
   "metadata": {},
   "outputs": [],
   "source": []
  }
 ],
 "metadata": {
  "kernelspec": {
   "display_name": "Python 3",
   "language": "python",
   "name": "python3"
  },
  "language_info": {
   "codemirror_mode": {
    "name": "ipython",
    "version": 3
   },
   "file_extension": ".py",
   "mimetype": "text/x-python",
   "name": "python",
   "nbconvert_exporter": "python",
   "pygments_lexer": "ipython3",
   "version": "3.11.4"
  }
 },
 "nbformat": 4,
 "nbformat_minor": 5
}
